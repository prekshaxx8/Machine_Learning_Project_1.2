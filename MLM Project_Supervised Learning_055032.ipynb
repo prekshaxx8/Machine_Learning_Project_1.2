{
 "cells": [
  {
   "cell_type": "markdown",
   "metadata": {
    "id": "aqGi_WV3Adv-"
   },
   "source": [
    "\n",
    "\n",
    "# <span style=\"color:Crimson; font-size:28px;\"> **Supervised Learning Models on Import-Export Dataset using Python** \n",
    "\n",
    "---\n",
    "\n",
    "### <span style=\"color:Navy; font-size:20px;\"> **Prepared By: Preksha Verma (055032)**\n",
    "\n",
    "\n",
    "\n",
    "---\n",
    "\n",
    "## <span style=\"color:Navy\">**PROJECT CONTENTS:**\n",
    "- Project Information 📄\n",
    "- Description of Data 📊\n",
    "- Data Sampling 📌\n",
    "- Project Objectives | Problem Statements 🎯\n",
    "- Analysis of Data 📈\n",
    "- Observations | Findings 📝\n",
    "- Managerial Insights | Recommendations 💡\n",
    "\n",
    "---\n",
    "\n",
    "### <span style=\"color:Navy\">**1. Project Information**\n",
    "- **Title**: Data Exploration with Python using Pandas & Numpy Libraries\n",
    "\n",
    "\n",
    " <span style=\"color:Navy\">**Prepared By:**\n",
    "\n",
    "- Preksha Verma (055032)\n",
    "\n",
    "\n",
    "---\n",
    "\n",
    "### <span style=\"color:Navy\">**2. Description of Data**\n",
    "- **Data Source**: https://www.kaggle.com/datasets/chakilamvishwas/imports-exports-15000\n",
    "\n",
    "  A live link is used in the dataset\n",
    "\n",
    "- **Data Columns Description**:\n",
    "  - **Transaction_ID**: Unique identifier for each trade transaction.\n",
    "  - **Country**: Country of origin or destination for the trade.\n",
    "  - **Product**: Product being traded.\n",
    "  - **Import_Export**: Indicates whether the transaction is an import or export.\n",
    "  - **Quantity**: Amount of the product traded.\n",
    "  - **Value**: Monetary value of the product in USD.\n",
    "  - **Date**: Date of the transaction.\n",
    "  - **Category**: Category of the product (e.g., Electronics, Clothing, Machinery).\n",
    "  - **Port**: Port of entry or departure.\n",
    "  - **Customs_Code**: Customs or HS code for product classification.\n",
    "  - **Weight**: Weight of the product in kilograms.\n",
    "  - **Shipping_Method**: Method used for shipping (e.g., Air, Sea, Land).\n",
    "  - **Supplier**: Name of the supplier or manufacturer.\n",
    "  - **Customer**: Name of the customer or recipient.\n",
    "  - **Invoice_Number**: Unique invoice number for the transaction.\n",
    "  - **Payment_Terms**: Terms of payment (e.g., Net 30, Net 60, Cash on Delivery).\n",
    "\n",
    "- **Data Type**: Since the dataset contains multiple entities (countries) and records data over time, this is an example of Panel Data \n",
    "- **Data Variables**:\n",
    "  - **All non-null Variables**\n",
    "    - **Numbers**:\n",
    "      - Integer Variables: 3 (Quantity, Customs_Code, Invoice_Number)\n",
    "      - Float (Decimal) Variables: 2 (Value, Weight)\n",
    "    - **Text**: 9 (Country, Product, Import_Export, Category, Port, Shipping_Method, Supplier, Customer, Payment_Terms)\n",
    "    - **DateTime**: 1 (Date)\n",
    "\n",
    "---\n",
    "\n",
    "### <span style=\"color:Navy\">**3. Data Sampling**\n",
    "From the dataset containing 15,000 values, a sample of 5001 entries was taken. The dataset sample (now referred to as `ag03_sample`) was taken into account for further exploration.\n",
    "\n",
    "- **Data Variables**:\n",
    "  - **Index Variables**: 'Transaction_ID', 'Invoice_Number'\n",
    "  - **Categorical Variables**:\n",
    "    - Nominal Variables: Country, Product, Import_Export, Category, Port, Shipping_Method, Supplier, Customs_Code, Customer\n",
    "    - Ordinal Variable: Payment_Terms\n",
    "  - **Non-Categorical Variables**: Quantity, Value, and Weight\n",
    "\n",
    "---\n",
    "\n",
    "### <span style=\"color:Navy\">**4. Project Objectives**\n",
    "\n",
    "-   Classification of Dataset into {Segments | Clusters | Classes} using Supervised Learning Classification Algorithms\n",
    "-   Identification of {Important | Contributing | Significant} Variables or Features and their Thresholds for Classification\n",
    "-   Determination of an appropriate Classification Model based on Performance Metrics\n",
    "---\n",
    "### **5. Exploratory Data Analysis**\n",
    "\n",
    "#### **5.1. Data Preprocessing:**\n",
    "\n",
    "-   The data has no missing values, hence no missing data treatment was performed.\n",
    "-   For Encoding,  **Ordinal Encoder**  was used.\n",
    "-   For Scaling,  **Min-Max Scaler**  was used.\n",
    "\n",
    "#### **5.2. Descriptive Statistics**\n",
    "\n",
    "-   **Non-Categorical Variables**:\n",
    "    \n",
    "    -   Measures of Central Tendency: Minimum, Maximum, Mean, Median, Mode, Percentile\n",
    "    -   Measures of Dispersion: Range, Standard Deviation, Skewness, Kurtosis, Correlation (Matrix)\n",
    "    -   Composite Measure: Coefficient of Variation, Confidence Interval\n",
    "-   **Categorical Variables**:\n",
    "    \n",
    "    -   Count, Frequency, Proportion, Minimum, Maximum, Mode, Rank\n",
    "\n",
    "#### **5.3. Data Visualization**\n",
    "\n",
    "-    Bar, Heatmaps, Histograms, and Correlation Matrices.\n",
    "\n",
    "#### **5.4. Inferential Statistics**\n",
    "\n",
    "-   **Categorical Variable**  (Nominal | Ordinal):\n",
    "    -   Test of Homogeneity (Chi-sq)\n",
    "-   **Non-Categorical Variable**:\n",
    "    -   Test of Normality (Shapiro-Wilk, Kolmogorov-Smirnov, Anderson-Darling, Jarque-Bera)\n",
    "    -   Test of Correlation (t)\n",
    "\n",
    "#### **5.5. Machine Learning Models**\n",
    "\n",
    "-   **Logistic Regression (LR)**: Logistic regression is a classification algorithm that models the probability of a binary outcome based on one or more predictor variables using a logistic function.\n",
    "    \n",
    "-   **Support Vector Machines (SVM)**: SVM finds a hyperplane that best separates the data into classes by maximizing the margin between the closest points of the classes (support vectors).\n",
    "    \n",
    "-   **Stochastic Gradient Descent (SGD)**: An iterative optimization algorithm used for minimizing loss functions in linear classifiers and regressors, particularly useful for large datasets.\n",
    "    \n",
    "-   **Decision Trees**: A tree-based algorithm where each internal node represents a decision on a feature, each leaf node represents an outcome, and paths from root to leaf represent classification rules.\n",
    "    \n",
    "-   **K-Nearest Neighbors (KNN)**: A  algorithm that classifies a data point based on the majority class of its k-nearest neighbors in the feature space.\n",
    "    \n",
    "-   **Naive Bayes (NB)**: A probabilistic classifier based on Bayes' theorem, assuming strong independence between features.\n",
    "    \n",
    "-   **Bagging (Bootstrap Aggregating)**: Combines predictions from multiple models (e.g., Random Forest) to reduce variance and improve accuracy.\n",
    "    \n",
    "-   **Boosting**: Combines weak learners sequentially to form a strong learner by minimizing errors iteratively (e.g., Extreme Gradient Boosting - XGBoost).\n",
    "    \n",
    "\n",
    "#### **5.6. Model Performance Metrics**\n",
    "\n",
    "-   **Confusion Matrix**:\n",
    "    \n",
    "    -   Sensitivity (Recall): True Positive Rate\n",
    "    -   Specificity: True Negative Rate\n",
    "    -   Accuracy: Overall correctness\n",
    "    -   Precision: Positive Predictive Value\n",
    "    -   F1-Score: Harmonic mean of Precision and Recall\n",
    "    -   AUC: Area Under the ROC Curve\n",
    "-   **K-Fold Cross-Validation**: Splits data into k subsets; trains on k-1 and tests on the remaining one iteratively to ensure robust performance evaluation.\n",
    "    \n",
    "-   **Model Run Statistics**:\n",
    "    \n",
    "    -   Time Taken\n",
    "    -   Memory Used\n",
    "    -   Inherent Complexity\n",
    "\n",
    "### **6. Observations and Findings**\n",
    "\n",
    "**6.1. Nature of Data**\n",
    "\n",
    "-   **Missing Data:** The dataset contained no missing values.\n",
    "-   **Non-Numeric Categorical Data:** Categorical variables (e.g., Country, Product) were encoded using ordinal encoding.\n",
    "-   **Scales and Outliers:** Non-categorical numeric data (Quantity, Value, Weight) were scaled using Min-Max scaling. Box plots revealed potential outliers, but they were not removed to avoid potential loss of valuable information.\n",
    "\n",
    "**6.2. Supervised Machine Learning**\n",
    "\n",
    "-   **Logistic Regression (LR) vs. Support Vector Machine (SVM)**\n",
    "    \n",
    "    -   **Performance Metrics:** LR Accuracy: 0.3491, SVM Accuracy: 0.3298. LR showed slightly better performance.\n",
    "    -   **Run Statistics:** LR was significantly faster (0.0255 seconds) than SVM (0.7741 seconds). SVM had slightly lower memory usage (0.28 MB vs. 0.34 MB for LR).\n",
    "    -   **Conclusion:** LR is preferred due to its faster runtime and lower memory usage, making it more suitable for time-sensitive applications.\n",
    "-   **Decision Tree (DT) vs. K-Nearest Neighbors (KNN)**\n",
    "    \n",
    "    -   **Performance Metrics:** DT Accuracy: 0.3331, KNN Accuracy: 0.3258. DT showed slightly better accuracy.\n",
    "    -   **Run Statistics:** KNN was significantly faster (0.0051 seconds) than DT (0.0288 seconds).\n",
    "    -   **Conclusion:** DT is preferred for its slightly higher accuracy and better interpretability. KNN might be suitable when speed is the primary concern.\n",
    "-   **Logistic Regression (LR) vs. Decision Tree (DT)**\n",
    "    \n",
    "    -   **Performance Metrics:** LR Accuracy: 0.3491, DT Accuracy: 0.3331. LR showed slightly better accuracy.\n",
    "    -   **Run Statistics:** LR was faster (0.0255 seconds) than DT (0.0288 seconds).\n",
    "    -   **Conclusion:** LR is favored due to its slightly better accuracy and faster runtime.\n",
    "-   **Decision Tree (DT) vs. Random Forest (RF)**\n",
    "    \n",
    "    -   **Performance Metrics:** DT Accuracy: 0.3331, RF Accuracy: 0.3498. RF showed significantly better accuracy.\n",
    "    -   **Run Statistics:** DT was significantly faster (0.0288 seconds) than RF (1.0311 seconds). RF consumed more memory (0.49 MB vs. 0.23 MB for DT).\n",
    "    -   **Conclusion:** RF may be more effective for larger, more complex datasets, but DT is preferred for faster training and lower memory usage.\n",
    "-   **Cross-Validation of Results and Performance**\n",
    "    \n",
    "    -   **Logistic Regression:**\n",
    "        \n",
    "        -   Mean Cross-Validation Accuracy: 0.3437\n",
    "        -   Test Set Accuracy: 0.3491\n",
    "        -   Observations: Shows relatively balanced performance across classes.\n",
    "    -   **Support Vector Machine (SVM):**\n",
    "        \n",
    "        -   Mean Cross-Validation Accuracy: 0.3266\n",
    "        -   Test Set Accuracy: 0.3298\n",
    "        -   Observations: Shows some bias towards certain classes.\n",
    "    -   **Decision Tree (DT):**\n",
    "        \n",
    "        -   Mean Cross-Validation Accuracy: 0.3360\n",
    "        -   Test Set Accuracy: 0.3331\n",
    "        -   Observations: Consistent performance across classes.\n",
    "    -   **Random Forest (RF):**\n",
    "        \n",
    "        -   Mean Cross-Validation Accuracy: 0.3360\n",
    "        -   Test Set Accuracy: 0.3498\n",
    "        -   Observations: Shows improved accuracy compared to DT.\n",
    "\n",
    "### **7. Managerial Insights and Recommendations**\n",
    "\n",
    "**7.1. Preprocessing of Data**\n",
    "\n",
    "-   **Missing Data:** No specific treatment was necessary due to the absence of missing values.\n",
    "-   **Encoding:** Ordinal encoding was effective for categorical variables.\n",
    "-   **Scaling:** Min-Max scaling was used to address potential scale differences.\n",
    "-   **Data Split:** A 70:30 split for training and testing sets is recommended for future supervised learning tasks.\n",
    "\n",
    "**7.2. Supervised Machine Learning**\n",
    "\n",
    "-   **Inference regarding the Purpose of Classification:** The purpose of classification is to identify patterns in the data and accurately assign instances to predefined classes. The models exhibited varying levels of accuracy, suggesting potential challenges such as class imbalance or insufficient data quality.\n",
    "    \n",
    "-   **Model Selection:**\n",
    "    \n",
    "    -   **Logistic Regression:** Suitable for quick analysis and interpretability, especially when time and computational resources are limited.\n",
    "    -   **Decision Tree:** Provides good interpretability and can handle moderate complexity.\n",
    "    -   **Support Vector Machine:** Effective for capturing complex patterns but can be computationally expensive.\n",
    "    -   **Random Forest:** Can improve accuracy over Decision Trees, but requires more computational resources.\n",
    "-   **Recommendations for Managerial Actions:**\n",
    "    \n",
    "    -   **Address class imbalance** using techniques like oversampling or undersampling.\n",
    "    -   **Improve feature engineering** to enhance model performance.\n",
    "    -   **Select models** based on the trade-off between accuracy, runtime, and interpretability.\n",
    "    -   **Continuously monitor and refine** the models as new data becomes available.\n",
    "\n",
    "**Identification of Important Variables or Features and Their Thresholds**\n",
    "\n",
    "-   **Key Features:** Country, Product, Quantity, Value, Weight, Shipping_Method, Port, and Customs_Code consistently emerged as significant features across multiple models.\n",
    "-   **Model-Specific Observations:**\n",
    "    -   **Decision Tree:** Relied heavily on Country, Product, Quantity, and Value.\n",
    "    -   **Random Forest:** Benefited from ensemble averaging, utilizing features like Port and Customs_Code effectively.\n",
    "    -   **XGBoost:** Highlighted the importance of Product, Country, and Value based on feature importance scores.\n",
    "    -   **KNN:** Emphasized Quantity and Weight due to its distance-based nature.\n",
    "    -   **Naive Bayes:** Primarily relied on categorical features like Import_Export, Customs_Code, and Shipping_Method.\n",
    "    -   **Logistic Regression:** Found Country, Product, and Shipping_Method to be significant predictors."
   ]
  },
  {
   "cell_type": "markdown",
   "metadata": {
    "id": "aJKy4dNQz8kj"
   },
   "source": [
    "## **Project Information and Analysis**"
   ]
  },
  {
   "cell_type": "code",
   "execution_count": 20,
   "metadata": {
    "id": "VVT6ituYTC4y"
   },
   "outputs": [],
   "source": [
    "\n",
    "# Import Relevant Python Libraries\n",
    "import io\n",
    "from io import StringIO\n",
    "import requests\n",
    "import pandas as pd\n",
    "import statsmodels.formula.api as sm\n",
    "from scipy.stats import chi2_contingency\n",
    "from scipy.stats import shapiro, kstest, anderson, jarque_bera\n",
    "from sklearn.decomposition import PCA\n",
    "from sklearn.cluster import KMeans, DBSCAN, Birch\n",
    "from scipy.cluster.hierarchy import dendrogram, linkage\n",
    "import statsmodels.stats.descriptivestats as dstats\n",
    "import numpy as np  # For Data Manipulation\n",
    "from sklearn.preprocessing import LabelEncoder, OrdinalEncoder  # For Encoding Categorical Data [Nominal | Ordinal]\n",
    "from sklearn.impute import SimpleImputer, KNNImputer  # For Imputation of Missing Data\n",
    "from sklearn.preprocessing import StandardScaler, MinMaxScaler, RobustScaler  # For Rescaling Data\n",
    "from sklearn.model_selection import train_test_split  # For Splitting Data into Training & Testing Sets\n",
    "import matplotlib.pyplot as plt\n",
    "import seaborn as sns  # For Data Visualization\n",
    "import scipy.cluster.hierarchy as sch  # For Hierarchical Clustering\n",
    "from sklearn.cluster import AgglomerativeClustering as agclus, KMeans as kmclus  # For Agglomerative & K-Means Clustering\n",
    "from sklearn.metrics import silhouette_score,davies_bouldin_score  # For Clustering Model Evaluation\n",
    "import statsmodels.api as sm\n",
    "from sklearn import metrics\n",
    "import scipy.stats as stats\n",
    "import statsmodels.stats.multicomp as multi\n",
    "import warnings\n",
    "from sklearn.tree import DecisionTreeClassifier\n",
    "from sklearn.metrics import classification_report, accuracy_score, confusion_matrix\n",
    "from sklearn.linear_model import LogisticRegression\n",
    "from sklearn.ensemble import RandomForestClassifier,GradientBoostingClassifier\n",
    "from sklearn.model_selection import KFold, cross_val_score\n",
    "from sklearn.linear_model import LogisticRegression\n",
    "from sklearn.metrics import classification_report, accuracy_score\n",
    "\n",
    "\n",
    "\n",
    "warnings.filterwarnings('ignore')"
   ]
  },
  {
   "cell_type": "code",
   "execution_count": 22,
   "metadata": {
    "id": "NYI2HRjrcoCQ"
   },
   "outputs": [],
   "source": [
    "# Replace with your Google Drive file ID.\n",
    "pv32_file_id = '1kV2diCusZJv9q2uRWPg2HzWw7Xvz1tGY' # Import Export Full\n",
    "\n",
    "# Construct the download pv32_url.\n",
    "pv32_url = f\"https://drive.google.com/uc?id={pv32_file_id}&export=download\"\n",
    "\n",
    "# Download the file content.\n",
    "pv32_response = requests.get(pv32_url)\n",
    "pv32_response.raise_for_status()  # Raise an exception for bad pv32_responses (4xx or 5xx)\n",
    "\n",
    "# Read the file content into a Pandas DataFrame.\n",
    "# Assuming it's a CSV file.\n",
    "pv32_df = pd.read_csv(io.StringIO(pv32_response.text))"
   ]
  },
  {
   "cell_type": "code",
   "execution_count": 23,
   "metadata": {
    "colab": {
     "base_uri": "https://localhost:8080/"
    },
    "id": "0v-XD4yBTIiv",
    "outputId": "dffe9651-f0be-48e8-aa11-b054eb0edf43"
   },
   "outputs": [
    {
     "name": "stdout",
     "output_type": "stream",
     "text": [
      "The dimensions of the data is:  (15000, 16)\n"
     ]
    }
   ],
   "source": [
    "# Data Dimensions\n",
    "print(\"The dimensions of the data is: \",pv32_df.shape)"
   ]
  },
  {
   "cell_type": "code",
   "execution_count": 24,
   "metadata": {
    "colab": {
     "base_uri": "https://localhost:8080/"
    },
    "id": "fEJZpvJoTPBg",
    "outputId": "6dd50080-fd45-4a31-99c3-06c6efb5f78b"
   },
   "outputs": [
    {
     "name": "stdout",
     "output_type": "stream",
     "text": [
      "<class 'pandas.core.frame.DataFrame'>\n",
      "RangeIndex: 15000 entries, 0 to 14999\n",
      "Data columns (total 16 columns):\n",
      " #   Column           Non-Null Count  Dtype  \n",
      "---  ------           --------------  -----  \n",
      " 0   Transaction_ID   15000 non-null  object \n",
      " 1   Country          15000 non-null  object \n",
      " 2   Product          15000 non-null  object \n",
      " 3   Import_Export    15000 non-null  object \n",
      " 4   Quantity         15000 non-null  int64  \n",
      " 5   Value            15000 non-null  float64\n",
      " 6   Date             15000 non-null  object \n",
      " 7   Category         15000 non-null  object \n",
      " 8   Port             15000 non-null  object \n",
      " 9   Customs_Code     15000 non-null  int64  \n",
      " 10  Weight           15000 non-null  float64\n",
      " 11  Shipping_Method  15000 non-null  object \n",
      " 12  Supplier         15000 non-null  object \n",
      " 13  Customer         15000 non-null  object \n",
      " 14  Invoice_Number   15000 non-null  int64  \n",
      " 15  Payment_Terms    15000 non-null  object \n",
      "dtypes: float64(2), int64(3), object(11)\n",
      "memory usage: 1.8+ MB\n"
     ]
    }
   ],
   "source": [
    "# Data Variable Type\n",
    "pv32_df.info()"
   ]
  },
  {
   "cell_type": "code",
   "execution_count": 28,
   "metadata": {
    "id": "FzWgK-hNTa-V"
   },
   "outputs": [],
   "source": [
    "# Bifurcating the Variables into Index, Categorical (Nominal, Ordinal) and Non-Categorical Variables\n",
    "\n",
    "pv32_index_vars=['Transaction_ID','Invoice_Number']\n",
    "pv32_nominal_vars=[ 'Country','Product','Import_Export','Category','Port','Shipping_Method','Supplier','Customer','Customs_Code']\n",
    "pv32_ordinal_vars=['Payment_Terms']\n",
    "\n",
    "pv32_cat_vars= pv32_nominal_vars + pv32_ordinal_vars\n",
    "pv32_non_cat_vars=['Quantity','Value','Weight']"
   ]
  },
  {
   "cell_type": "markdown",
   "metadata": {
    "id": "f1hrPJvgTmcm"
   },
   "source": [
    "## **Sampling of 5001 Records**\n"
   ]
  },
  {
   "cell_type": "code",
   "execution_count": 31,
   "metadata": {
    "colab": {
     "base_uri": "https://localhost:8080/"
    },
    "id": "iXMgysbvTf_4",
    "outputId": "8c976ace-4048-41a3-a121-a1228fd73ac7"
   },
   "outputs": [
    {
     "data": {
      "text/plain": [
       "(5001, 16)"
      ]
     },
     "execution_count": 31,
     "metadata": {},
     "output_type": "execute_result"
    }
   ],
   "source": [
    "pv32_sample = pd.DataFrame.sample(pv32_df, n=5001, random_state=55032)\n",
    "# Displaying the Dimensions of Sample Data.\n",
    "pv32_sample.shape"
   ]
  },
  {
   "cell_type": "markdown",
   "metadata": {
    "id": "4eQNT7YNT4WB"
   },
   "source": [
    "## **Data Pre-Processing**"
   ]
  },
  {
   "cell_type": "code",
   "execution_count": 34,
   "metadata": {
    "colab": {
     "base_uri": "https://localhost:8080/"
    },
    "id": "cfKZN3XbTk6o",
    "outputId": "69970f9a-7600-4d84-8be3-c9b6169d21a7"
   },
   "outputs": [
    {
     "name": "stdout",
     "output_type": "stream",
     "text": [
      "<class 'pandas.core.frame.DataFrame'>\n",
      "Index: 5001 entries, 14626 to 4127\n",
      "Data columns (total 16 columns):\n",
      " #   Column           Non-Null Count  Dtype  \n",
      "---  ------           --------------  -----  \n",
      " 0   Transaction_ID   5001 non-null   object \n",
      " 1   Country          5001 non-null   object \n",
      " 2   Product          5001 non-null   object \n",
      " 3   Import_Export    5001 non-null   object \n",
      " 4   Quantity         5001 non-null   int64  \n",
      " 5   Value            5001 non-null   float64\n",
      " 6   Date             5001 non-null   object \n",
      " 7   Category         5001 non-null   object \n",
      " 8   Port             5001 non-null   object \n",
      " 9   Customs_Code     5001 non-null   int64  \n",
      " 10  Weight           5001 non-null   float64\n",
      " 11  Shipping_Method  5001 non-null   object \n",
      " 12  Supplier         5001 non-null   object \n",
      " 13  Customer         5001 non-null   object \n",
      " 14  Invoice_Number   5001 non-null   int64  \n",
      " 15  Payment_Terms    5001 non-null   object \n",
      "dtypes: float64(2), int64(3), object(11)\n",
      "memory usage: 664.2+ KB\n"
     ]
    }
   ],
   "source": [
    "pv32_sample.info()"
   ]
  },
  {
   "cell_type": "code",
   "execution_count": 36,
   "metadata": {
    "colab": {
     "base_uri": "https://localhost:8080/",
     "height": 458
    },
    "id": "iv2xmKXFT6vv",
    "outputId": "1518bf25-6fa9-4e86-fb86-452177aae7a5"
   },
   "outputs": [
    {
     "data": {
      "text/plain": [
       "14626    0\n",
       "1913     0\n",
       "14399    0\n",
       "489      0\n",
       "4993     0\n",
       "        ..\n",
       "5046     0\n",
       "2035     0\n",
       "8706     0\n",
       "12939    0\n",
       "4127     0\n",
       "Length: 5001, dtype: int64"
      ]
     },
     "execution_count": 36,
     "metadata": {},
     "output_type": "execute_result"
    }
   ],
   "source": [
    "# Check for missing values\n",
    "\n",
    "pv32_sample.isnull().sum(axis=1)"
   ]
  },
  {
   "cell_type": "markdown",
   "metadata": {
    "id": "Hy8W4fygUC5I"
   },
   "source": [
    "**> Observation**: As the sum of the missing data column is 0, it is evident\n",
    "that there's no presence of missing data in the dataset. So the process of missing data treatment is skipped."
   ]
  },
  {
   "cell_type": "code",
   "execution_count": 39,
   "metadata": {
    "colab": {
     "base_uri": "https://localhost:8080/",
     "height": 206
    },
    "id": "JekUtO7vT9lD",
    "outputId": "a17c5ede-1bd4-400d-ef31-1e20433283d0"
   },
   "outputs": [
    {
     "data": {
      "text/html": [
       "<div>\n",
       "<style scoped>\n",
       "    .dataframe tbody tr th:only-of-type {\n",
       "        vertical-align: middle;\n",
       "    }\n",
       "\n",
       "    .dataframe tbody tr th {\n",
       "        vertical-align: top;\n",
       "    }\n",
       "\n",
       "    .dataframe thead th {\n",
       "        text-align: right;\n",
       "    }\n",
       "</style>\n",
       "<table border=\"1\" class=\"dataframe\">\n",
       "  <thead>\n",
       "    <tr style=\"text-align: right;\">\n",
       "      <th></th>\n",
       "      <th>Country</th>\n",
       "      <th>Product</th>\n",
       "      <th>Import_Export</th>\n",
       "      <th>Category</th>\n",
       "      <th>Port</th>\n",
       "      <th>Shipping_Method</th>\n",
       "      <th>Supplier</th>\n",
       "      <th>Customer</th>\n",
       "      <th>Customs_Code</th>\n",
       "      <th>Payment_Terms</th>\n",
       "    </tr>\n",
       "  </thead>\n",
       "  <tbody>\n",
       "    <tr>\n",
       "      <th>0</th>\n",
       "      <td>79.0</td>\n",
       "      <td>582.0</td>\n",
       "      <td>0.0</td>\n",
       "      <td>2.0</td>\n",
       "      <td>3901.0</td>\n",
       "      <td>1.0</td>\n",
       "      <td>176.0</td>\n",
       "      <td>3443.0</td>\n",
       "      <td>982.0</td>\n",
       "      <td>1.0</td>\n",
       "    </tr>\n",
       "    <tr>\n",
       "      <th>1</th>\n",
       "      <td>136.0</td>\n",
       "      <td>768.0</td>\n",
       "      <td>1.0</td>\n",
       "      <td>2.0</td>\n",
       "      <td>4130.0</td>\n",
       "      <td>1.0</td>\n",
       "      <td>2133.0</td>\n",
       "      <td>2645.0</td>\n",
       "      <td>2852.0</td>\n",
       "      <td>1.0</td>\n",
       "    </tr>\n",
       "    <tr>\n",
       "      <th>2</th>\n",
       "      <td>0.0</td>\n",
       "      <td>142.0</td>\n",
       "      <td>1.0</td>\n",
       "      <td>3.0</td>\n",
       "      <td>2566.0</td>\n",
       "      <td>0.0</td>\n",
       "      <td>2118.0</td>\n",
       "      <td>3022.0</td>\n",
       "      <td>977.0</td>\n",
       "      <td>3.0</td>\n",
       "    </tr>\n",
       "    <tr>\n",
       "      <th>3</th>\n",
       "      <td>222.0</td>\n",
       "      <td>176.0</td>\n",
       "      <td>0.0</td>\n",
       "      <td>3.0</td>\n",
       "      <td>1720.0</td>\n",
       "      <td>1.0</td>\n",
       "      <td>1517.0</td>\n",
       "      <td>2658.0</td>\n",
       "      <td>884.0</td>\n",
       "      <td>2.0</td>\n",
       "    </tr>\n",
       "    <tr>\n",
       "      <th>4</th>\n",
       "      <td>6.0</td>\n",
       "      <td>518.0</td>\n",
       "      <td>1.0</td>\n",
       "      <td>2.0</td>\n",
       "      <td>410.0</td>\n",
       "      <td>1.0</td>\n",
       "      <td>4436.0</td>\n",
       "      <td>4838.0</td>\n",
       "      <td>2836.0</td>\n",
       "      <td>0.0</td>\n",
       "    </tr>\n",
       "  </tbody>\n",
       "</table>\n",
       "</div>"
      ],
      "text/plain": [
       "   Country  Product  Import_Export  Category    Port  Shipping_Method  \\\n",
       "0     79.0    582.0            0.0       2.0  3901.0              1.0   \n",
       "1    136.0    768.0            1.0       2.0  4130.0              1.0   \n",
       "2      0.0    142.0            1.0       3.0  2566.0              0.0   \n",
       "3    222.0    176.0            0.0       3.0  1720.0              1.0   \n",
       "4      6.0    518.0            1.0       2.0   410.0              1.0   \n",
       "\n",
       "   Supplier  Customer  Customs_Code  Payment_Terms  \n",
       "0     176.0    3443.0         982.0            1.0  \n",
       "1    2133.0    2645.0        2852.0            1.0  \n",
       "2    2118.0    3022.0         977.0            3.0  \n",
       "3    1517.0    2658.0         884.0            2.0  \n",
       "4    4436.0    4838.0        2836.0            0.0  "
      ]
     },
     "execution_count": 39,
     "metadata": {},
     "output_type": "execute_result"
    }
   ],
   "source": [
    "# Encoding\n",
    "\n",
    "pv32_oe = OrdinalEncoder()\n",
    "pv32_categorical_cols = pv32_sample[pv32_cat_vars]\n",
    "pv32_oe_fit = pv32_oe.fit_transform(pv32_categorical_cols)\n",
    "pv32_encoded = pd.DataFrame(pv32_oe_fit, columns=pv32_cat_vars)\n",
    "pv32_encoded.head()"
   ]
  },
  {
   "cell_type": "code",
   "execution_count": 41,
   "metadata": {
    "colab": {
     "base_uri": "https://localhost:8080/",
     "height": 206
    },
    "id": "_xeqt_VZUPP9",
    "outputId": "d2ea81d8-ab6f-465f-d49f-bc7ae1de3cda"
   },
   "outputs": [
    {
     "data": {
      "text/html": [
       "<div>\n",
       "<style scoped>\n",
       "    .dataframe tbody tr th:only-of-type {\n",
       "        vertical-align: middle;\n",
       "    }\n",
       "\n",
       "    .dataframe tbody tr th {\n",
       "        vertical-align: top;\n",
       "    }\n",
       "\n",
       "    .dataframe thead th {\n",
       "        text-align: right;\n",
       "    }\n",
       "</style>\n",
       "<table border=\"1\" class=\"dataframe\">\n",
       "  <thead>\n",
       "    <tr style=\"text-align: right;\">\n",
       "      <th></th>\n",
       "      <th>Quantity</th>\n",
       "      <th>Value</th>\n",
       "      <th>Weight</th>\n",
       "    </tr>\n",
       "  </thead>\n",
       "  <tbody>\n",
       "    <tr>\n",
       "      <th>0</th>\n",
       "      <td>0.108533</td>\n",
       "      <td>0.863833</td>\n",
       "      <td>0.890013</td>\n",
       "    </tr>\n",
       "    <tr>\n",
       "      <th>1</th>\n",
       "      <td>0.169251</td>\n",
       "      <td>0.870791</td>\n",
       "      <td>0.544849</td>\n",
       "    </tr>\n",
       "    <tr>\n",
       "      <th>2</th>\n",
       "      <td>0.075823</td>\n",
       "      <td>0.916166</td>\n",
       "      <td>0.956948</td>\n",
       "    </tr>\n",
       "    <tr>\n",
       "      <th>3</th>\n",
       "      <td>0.526358</td>\n",
       "      <td>0.383135</td>\n",
       "      <td>0.160684</td>\n",
       "    </tr>\n",
       "    <tr>\n",
       "      <th>4</th>\n",
       "      <td>0.887866</td>\n",
       "      <td>0.912519</td>\n",
       "      <td>0.663137</td>\n",
       "    </tr>\n",
       "  </tbody>\n",
       "</table>\n",
       "</div>"
      ],
      "text/plain": [
       "   Quantity     Value    Weight\n",
       "0  0.108533  0.863833  0.890013\n",
       "1  0.169251  0.870791  0.544849\n",
       "2  0.075823  0.916166  0.956948\n",
       "3  0.526358  0.383135  0.160684\n",
       "4  0.887866  0.912519  0.663137"
      ]
     },
     "execution_count": 41,
     "metadata": {},
     "output_type": "execute_result"
    }
   ],
   "source": [
    "#Scaling\n",
    "\n",
    "pv32_scaler = MinMaxScaler()\n",
    "pv32_scaled_data = pv32_scaler.fit_transform(pv32_sample[pv32_non_cat_vars])\n",
    "pv32_scaled = pd.DataFrame(pv32_scaled_data, columns=pv32_non_cat_vars)\n",
    "pv32_scaled.head()"
   ]
  },
  {
   "cell_type": "code",
   "execution_count": 43,
   "metadata": {
    "colab": {
     "base_uri": "https://localhost:8080/",
     "height": 206
    },
    "id": "uYhHS7lzUcn8",
    "outputId": "a407432e-2234-42a0-d218-4b3ddeaba6e7"
   },
   "outputs": [
    {
     "data": {
      "text/html": [
       "<div>\n",
       "<style scoped>\n",
       "    .dataframe tbody tr th:only-of-type {\n",
       "        vertical-align: middle;\n",
       "    }\n",
       "\n",
       "    .dataframe tbody tr th {\n",
       "        vertical-align: top;\n",
       "    }\n",
       "\n",
       "    .dataframe thead th {\n",
       "        text-align: right;\n",
       "    }\n",
       "</style>\n",
       "<table border=\"1\" class=\"dataframe\">\n",
       "  <thead>\n",
       "    <tr style=\"text-align: right;\">\n",
       "      <th></th>\n",
       "      <th>Quantity</th>\n",
       "      <th>Value</th>\n",
       "      <th>Weight</th>\n",
       "      <th>Country</th>\n",
       "      <th>Product</th>\n",
       "      <th>Import_Export</th>\n",
       "      <th>Category</th>\n",
       "      <th>Port</th>\n",
       "      <th>Shipping_Method</th>\n",
       "      <th>Supplier</th>\n",
       "      <th>Customer</th>\n",
       "      <th>Customs_Code</th>\n",
       "      <th>Payment_Terms</th>\n",
       "    </tr>\n",
       "  </thead>\n",
       "  <tbody>\n",
       "    <tr>\n",
       "      <th>0</th>\n",
       "      <td>0.108533</td>\n",
       "      <td>0.863833</td>\n",
       "      <td>0.890013</td>\n",
       "      <td>79.0</td>\n",
       "      <td>582.0</td>\n",
       "      <td>0.0</td>\n",
       "      <td>2.0</td>\n",
       "      <td>3901.0</td>\n",
       "      <td>1.0</td>\n",
       "      <td>176.0</td>\n",
       "      <td>3443.0</td>\n",
       "      <td>982.0</td>\n",
       "      <td>1.0</td>\n",
       "    </tr>\n",
       "    <tr>\n",
       "      <th>1</th>\n",
       "      <td>0.169251</td>\n",
       "      <td>0.870791</td>\n",
       "      <td>0.544849</td>\n",
       "      <td>136.0</td>\n",
       "      <td>768.0</td>\n",
       "      <td>1.0</td>\n",
       "      <td>2.0</td>\n",
       "      <td>4130.0</td>\n",
       "      <td>1.0</td>\n",
       "      <td>2133.0</td>\n",
       "      <td>2645.0</td>\n",
       "      <td>2852.0</td>\n",
       "      <td>1.0</td>\n",
       "    </tr>\n",
       "    <tr>\n",
       "      <th>2</th>\n",
       "      <td>0.075823</td>\n",
       "      <td>0.916166</td>\n",
       "      <td>0.956948</td>\n",
       "      <td>0.0</td>\n",
       "      <td>142.0</td>\n",
       "      <td>1.0</td>\n",
       "      <td>3.0</td>\n",
       "      <td>2566.0</td>\n",
       "      <td>0.0</td>\n",
       "      <td>2118.0</td>\n",
       "      <td>3022.0</td>\n",
       "      <td>977.0</td>\n",
       "      <td>3.0</td>\n",
       "    </tr>\n",
       "    <tr>\n",
       "      <th>3</th>\n",
       "      <td>0.526358</td>\n",
       "      <td>0.383135</td>\n",
       "      <td>0.160684</td>\n",
       "      <td>222.0</td>\n",
       "      <td>176.0</td>\n",
       "      <td>0.0</td>\n",
       "      <td>3.0</td>\n",
       "      <td>1720.0</td>\n",
       "      <td>1.0</td>\n",
       "      <td>1517.0</td>\n",
       "      <td>2658.0</td>\n",
       "      <td>884.0</td>\n",
       "      <td>2.0</td>\n",
       "    </tr>\n",
       "    <tr>\n",
       "      <th>4</th>\n",
       "      <td>0.887866</td>\n",
       "      <td>0.912519</td>\n",
       "      <td>0.663137</td>\n",
       "      <td>6.0</td>\n",
       "      <td>518.0</td>\n",
       "      <td>1.0</td>\n",
       "      <td>2.0</td>\n",
       "      <td>410.0</td>\n",
       "      <td>1.0</td>\n",
       "      <td>4436.0</td>\n",
       "      <td>4838.0</td>\n",
       "      <td>2836.0</td>\n",
       "      <td>0.0</td>\n",
       "    </tr>\n",
       "  </tbody>\n",
       "</table>\n",
       "</div>"
      ],
      "text/plain": [
       "   Quantity     Value    Weight  Country  Product  Import_Export  Category  \\\n",
       "0  0.108533  0.863833  0.890013     79.0    582.0            0.0       2.0   \n",
       "1  0.169251  0.870791  0.544849    136.0    768.0            1.0       2.0   \n",
       "2  0.075823  0.916166  0.956948      0.0    142.0            1.0       3.0   \n",
       "3  0.526358  0.383135  0.160684    222.0    176.0            0.0       3.0   \n",
       "4  0.887866  0.912519  0.663137      6.0    518.0            1.0       2.0   \n",
       "\n",
       "     Port  Shipping_Method  Supplier  Customer  Customs_Code  Payment_Terms  \n",
       "0  3901.0              1.0     176.0    3443.0         982.0            1.0  \n",
       "1  4130.0              1.0    2133.0    2645.0        2852.0            1.0  \n",
       "2  2566.0              0.0    2118.0    3022.0         977.0            3.0  \n",
       "3  1720.0              1.0    1517.0    2658.0         884.0            2.0  \n",
       "4   410.0              1.0    4436.0    4838.0        2836.0            0.0  "
      ]
     },
     "execution_count": 43,
     "metadata": {},
     "output_type": "execute_result"
    }
   ],
   "source": [
    "# The pre-processed Dataset\n",
    "\n",
    "pv32_processed = pd.concat([pv32_scaled, pv32_encoded], axis=1)\n",
    "pv32_processed.head()\n",
    "\n",
    "pv32_sample = pv32_processed\n",
    "pv32_sample.head()"
   ]
  },
  {
   "cell_type": "markdown",
   "metadata": {
    "id": "aBXhp7c-Uknh"
   },
   "source": [
    "## **Descriptive Statistics**\n",
    "\n",
    "### **1. Non-Categorical Variables**"
   ]
  },
  {
   "cell_type": "code",
   "execution_count": 46,
   "metadata": {
    "colab": {
     "base_uri": "https://localhost:8080/",
     "height": 300
    },
    "id": "1XS8b2ONUfTd",
    "outputId": "4c6010a7-b998-4b05-d6a1-a1c495d78757"
   },
   "outputs": [
    {
     "data": {
      "text/html": [
       "<div>\n",
       "<style scoped>\n",
       "    .dataframe tbody tr th:only-of-type {\n",
       "        vertical-align: middle;\n",
       "    }\n",
       "\n",
       "    .dataframe tbody tr th {\n",
       "        vertical-align: top;\n",
       "    }\n",
       "\n",
       "    .dataframe thead th {\n",
       "        text-align: right;\n",
       "    }\n",
       "</style>\n",
       "<table border=\"1\" class=\"dataframe\">\n",
       "  <thead>\n",
       "    <tr style=\"text-align: right;\">\n",
       "      <th></th>\n",
       "      <th>Quantity</th>\n",
       "      <th>Value</th>\n",
       "      <th>Weight</th>\n",
       "    </tr>\n",
       "  </thead>\n",
       "  <tbody>\n",
       "    <tr>\n",
       "      <th>count</th>\n",
       "      <td>5001.000000</td>\n",
       "      <td>5001.000000</td>\n",
       "      <td>5001.000000</td>\n",
       "    </tr>\n",
       "    <tr>\n",
       "      <th>mean</th>\n",
       "      <td>0.497216</td>\n",
       "      <td>0.496485</td>\n",
       "      <td>0.496964</td>\n",
       "    </tr>\n",
       "    <tr>\n",
       "      <th>std</th>\n",
       "      <td>0.285516</td>\n",
       "      <td>0.290867</td>\n",
       "      <td>0.289970</td>\n",
       "    </tr>\n",
       "    <tr>\n",
       "      <th>min</th>\n",
       "      <td>0.000000</td>\n",
       "      <td>0.000000</td>\n",
       "      <td>0.000000</td>\n",
       "    </tr>\n",
       "    <tr>\n",
       "      <th>25%</th>\n",
       "      <td>0.248475</td>\n",
       "      <td>0.241902</td>\n",
       "      <td>0.250590</td>\n",
       "    </tr>\n",
       "    <tr>\n",
       "      <th>50%</th>\n",
       "      <td>0.492348</td>\n",
       "      <td>0.493071</td>\n",
       "      <td>0.486362</td>\n",
       "    </tr>\n",
       "    <tr>\n",
       "      <th>75%</th>\n",
       "      <td>0.748625</td>\n",
       "      <td>0.747314</td>\n",
       "      <td>0.748940</td>\n",
       "    </tr>\n",
       "    <tr>\n",
       "      <th>max</th>\n",
       "      <td>1.000000</td>\n",
       "      <td>1.000000</td>\n",
       "      <td>1.000000</td>\n",
       "    </tr>\n",
       "  </tbody>\n",
       "</table>\n",
       "</div>"
      ],
      "text/plain": [
       "          Quantity        Value       Weight\n",
       "count  5001.000000  5001.000000  5001.000000\n",
       "mean      0.497216     0.496485     0.496964\n",
       "std       0.285516     0.290867     0.289970\n",
       "min       0.000000     0.000000     0.000000\n",
       "25%       0.248475     0.241902     0.250590\n",
       "50%       0.492348     0.493071     0.486362\n",
       "75%       0.748625     0.747314     0.748940\n",
       "max       1.000000     1.000000     1.000000"
      ]
     },
     "execution_count": 46,
     "metadata": {},
     "output_type": "execute_result"
    }
   ],
   "source": [
    "pv32_sample[pv32_non_cat_vars].describe()"
   ]
  },
  {
   "cell_type": "markdown",
   "metadata": {
    "id": "YfN5QQkyauWN"
   },
   "source": [
    "#### **> Observations:**\n",
    "\n",
    "**Central Tendency:** The mean and median for Quantity, Value, and Weight are all close to 0.5. This indicates a symmetric distribution for each, with data points evenly spread around the central value.\n",
    "\n",
    "**Similar Variability:** Standard deviation is around 0.28 for all three variables, showing a moderate and comparable degree of spread or dispersion in the data. Values are not overly clustered around the mean.\n",
    "\n",
    "**Scaled Data:** Minimum (0) and maximum (1) values strongly suggest the data has been normalized using MinMaxScaler, bringing all variables to a similar and comparable scale."
   ]
  },
  {
   "cell_type": "code",
   "execution_count": 49,
   "metadata": {
    "id": "Io-HPChmUmw0"
   },
   "outputs": [],
   "source": [
    "def summarize_numerical(my_sample, variables):\n",
    "    summary = {}\n",
    "\n",
    "    for col in variables:\n",
    "        if col in pv32_sample[pv32_non_cat_vars]:  # Check if the column exists in the DataFrame\n",
    "            summary[col] = {\n",
    "                'Mode': my_sample[col].mode()[0],\n",
    "                'Range': my_sample[col].max() - my_sample[col].min(),\n",
    "                'Skewness': my_sample[col].skew() ,\n",
    "                'Kurtosis': my_sample[col].kurtosis()\n",
    "            }\n",
    "    return summary"
   ]
  },
  {
   "cell_type": "code",
   "execution_count": 51,
   "metadata": {
    "colab": {
     "base_uri": "https://localhost:8080/",
     "height": 143
    },
    "id": "mOIdiPFFawAB",
    "outputId": "52f12283-548a-4e2d-84d9-415381f7084c"
   },
   "outputs": [
    {
     "data": {
      "text/html": [
       "<div>\n",
       "<style scoped>\n",
       "    .dataframe tbody tr th:only-of-type {\n",
       "        vertical-align: middle;\n",
       "    }\n",
       "\n",
       "    .dataframe tbody tr th {\n",
       "        vertical-align: top;\n",
       "    }\n",
       "\n",
       "    .dataframe thead th {\n",
       "        text-align: right;\n",
       "    }\n",
       "</style>\n",
       "<table border=\"1\" class=\"dataframe\">\n",
       "  <thead>\n",
       "    <tr style=\"text-align: right;\">\n",
       "      <th></th>\n",
       "      <th>Mode</th>\n",
       "      <th>Range</th>\n",
       "      <th>Skewness</th>\n",
       "      <th>Kurtosis</th>\n",
       "    </tr>\n",
       "  </thead>\n",
       "  <tbody>\n",
       "    <tr>\n",
       "      <th>Quantity</th>\n",
       "      <td>0.179054</td>\n",
       "      <td>1.0</td>\n",
       "      <td>0.026975</td>\n",
       "      <td>-1.197187</td>\n",
       "    </tr>\n",
       "    <tr>\n",
       "      <th>Value</th>\n",
       "      <td>0.043560</td>\n",
       "      <td>1.0</td>\n",
       "      <td>0.018401</td>\n",
       "      <td>-1.211780</td>\n",
       "    </tr>\n",
       "    <tr>\n",
       "      <th>Weight</th>\n",
       "      <td>0.063601</td>\n",
       "      <td>1.0</td>\n",
       "      <td>0.037046</td>\n",
       "      <td>-1.197317</td>\n",
       "    </tr>\n",
       "  </tbody>\n",
       "</table>\n",
       "</div>"
      ],
      "text/plain": [
       "              Mode  Range  Skewness  Kurtosis\n",
       "Quantity  0.179054    1.0  0.026975 -1.197187\n",
       "Value     0.043560    1.0  0.018401 -1.211780\n",
       "Weight    0.063601    1.0  0.037046 -1.197317"
      ]
     },
     "execution_count": 51,
     "metadata": {},
     "output_type": "execute_result"
    }
   ],
   "source": [
    "summary_stats = summarize_numerical(pv32_sample,pv32_non_cat_vars)\n",
    "summary_df = pd.DataFrame.from_dict(summary_stats, orient='index')\n",
    "summary_df"
   ]
  },
  {
   "cell_type": "markdown",
   "metadata": {
    "id": "LKnYVA-la41S"
   },
   "source": [
    "#### **> Observations:**\r\n",
    "\r\n",
    "**Near-Symmetric Distribution:** Skewness values for Quantity, Value, and Weight are near 0, indicating near-symmetric distributions around their means. This implies a balanced frequency of observations on both sides of the average with a slight tendency toward positive skew.\r\n",
    "\r\n",
    "**Platykurtic with Reduced Outliers:** Negative kurtosis values indicate platykurtic distributions with fewer extreme values or outliers compared to a normal distribution. Data points are concentrated around the mean, reducing the likelihood of observing extremely high or low values.\r\n",
    "\r\n",
    "**Full Range Post-Scaling:** The range of 1.0 confirms that MinMax scaling has normalized the data to span the entire range from 0 to 1. This reflects substantial variability in the original raw data for Quantity, Value, and Weight before scaling.\r\n"
   ]
  },
  {
   "cell_type": "code",
   "execution_count": 54,
   "metadata": {
    "colab": {
     "base_uri": "https://localhost:8080/"
    },
    "id": "4y_SM6sXaybT",
    "outputId": "dde67992-3a9b-4cb6-c1f4-4360d64b7f70"
   },
   "outputs": [
    {
     "name": "stdout",
     "output_type": "stream",
     "text": [
      "Coefficient of Variation (%):\n",
      "Quantity: 57.42%\n",
      "Value: 58.59%\n",
      "Weight: 58.35%\n"
     ]
    }
   ],
   "source": [
    "# Coefficient of Variation\n",
    "def coefficient_of_variation(data):\n",
    "    mean = data.mean()\n",
    "    std = data.std()\n",
    "    cv = (std / mean) * 100\n",
    "    return cv\n",
    "\n",
    "cv_results = {}\n",
    "\n",
    "for col in pv32_non_cat_vars:\n",
    "    cv_results[col] = coefficient_of_variation(pv32_sample[col])\n",
    "\n",
    "# Display the results\n",
    "print(\"Coefficient of Variation (%):\")\n",
    "for col, cv in cv_results.items():\n",
    "    print(f\"{col}: {cv:.2f}%\")"
   ]
  },
  {
   "cell_type": "markdown",
   "metadata": {
    "id": "vPvljPsPoKHO"
   },
   "source": [
    "#### **> Observations:**\n",
    "\n",
    "**Moderate Variability:** CV values around 58% for Quantity, Value, and Weight indicate moderate data dispersion around their respective means.\n",
    "\n",
    "**Similar Relative Variability:** Nearly identical CV values across the three variables suggest comparable levels of relative variability.\n",
    "\n",
    "**Potential Implications:** Moderate CV values may indicate inherent data diversity or potential risks associated with fluctuations in these variables."
   ]
  },
  {
   "cell_type": "code",
   "execution_count": 57,
   "metadata": {
    "colab": {
     "base_uri": "https://localhost:8080/"
    },
    "id": "rhfx5p59bALw",
    "outputId": "5a058ce9-1091-484c-88e7-26d307a44071"
   },
   "outputs": [
    {
     "name": "stdout",
     "output_type": "stream",
     "text": [
      "\n",
      "Confidence Intervals (95%):\n",
      "Quantity: 0.49 to 0.51\n",
      "Value: 0.49 to 0.50\n",
      "Weight: 0.49 to 0.51\n"
     ]
    }
   ],
   "source": [
    "# Confidence Interval for the Mean\n",
    "def confidence_interval(data, confidence=0.95):\n",
    "    mean = data.mean()\n",
    "    std = data.std()\n",
    "    n = len(data)\n",
    "    z = stats.norm.ppf(1 - (1 - confidence) / 2)  # z-score for 95% CI\n",
    "    margin_of_error = z * (std / np.sqrt(n))\n",
    "    lower_bound = mean - margin_of_error\n",
    "    upper_bound = mean + margin_of_error\n",
    "    return (lower_bound, upper_bound)\n",
    "\n",
    "ci_results = {}\n",
    "for col in pv32_non_cat_vars:\n",
    "    ci_results[col] = confidence_interval(pv32_sample[col])\n",
    "\n",
    "\n",
    "print(\"\\nConfidence Intervals (95%):\")\n",
    "for col, ci in ci_results.items():\n",
    "    print(f\"{col}: {ci[0]:.2f} to {ci[1]:.2f}\")"
   ]
  },
  {
   "cell_type": "markdown",
   "metadata": {
    "id": "Ce8gKWD2bI1T"
   },
   "source": [
    "#### **> Observations:**\r\n",
    "\r\n",
    "**Precise Mean Estimation:** Narrow CI ranges for Quantity, Value, and Weight indicate precise estimation of their population means. We can be 95% confident that the true population means lie within these intervals.\r\n",
    "\r\n",
    "**Centered Around 0.5:** The CIs are centered around 0.5, suggesting that the distributions are likely centered around this value after MinMax scaling.\r\n",
    "\r\n",
    "**Slightly Higher Variability for Weight and Value:** The slightly wider CI for Weight and Quantity (0.49 to 0.51) indicates a marginally higher uncertainty in estimating their population means compared to Value (0.49 to 0.50).\r\n"
   ]
  },
  {
   "cell_type": "code",
   "execution_count": 60,
   "metadata": {
    "colab": {
     "base_uri": "https://localhost:8080/",
     "height": 161
    },
    "id": "gWCks1eGbEum",
    "outputId": "edd45b6c-2c44-47a5-b28a-84121e93c038"
   },
   "outputs": [
    {
     "name": "stdout",
     "output_type": "stream",
     "text": [
      "Correlation Matrix:\n"
     ]
    },
    {
     "data": {
      "text/html": [
       "<div>\n",
       "<style scoped>\n",
       "    .dataframe tbody tr th:only-of-type {\n",
       "        vertical-align: middle;\n",
       "    }\n",
       "\n",
       "    .dataframe tbody tr th {\n",
       "        vertical-align: top;\n",
       "    }\n",
       "\n",
       "    .dataframe thead th {\n",
       "        text-align: right;\n",
       "    }\n",
       "</style>\n",
       "<table border=\"1\" class=\"dataframe\">\n",
       "  <thead>\n",
       "    <tr style=\"text-align: right;\">\n",
       "      <th></th>\n",
       "      <th>Quantity</th>\n",
       "      <th>Value</th>\n",
       "      <th>Weight</th>\n",
       "    </tr>\n",
       "  </thead>\n",
       "  <tbody>\n",
       "    <tr>\n",
       "      <th>Quantity</th>\n",
       "      <td>1.000000</td>\n",
       "      <td>-0.023096</td>\n",
       "      <td>0.020034</td>\n",
       "    </tr>\n",
       "    <tr>\n",
       "      <th>Value</th>\n",
       "      <td>-0.023096</td>\n",
       "      <td>1.000000</td>\n",
       "      <td>-0.009178</td>\n",
       "    </tr>\n",
       "    <tr>\n",
       "      <th>Weight</th>\n",
       "      <td>0.020034</td>\n",
       "      <td>-0.009178</td>\n",
       "      <td>1.000000</td>\n",
       "    </tr>\n",
       "  </tbody>\n",
       "</table>\n",
       "</div>"
      ],
      "text/plain": [
       "          Quantity     Value    Weight\n",
       "Quantity  1.000000 -0.023096  0.020034\n",
       "Value    -0.023096  1.000000 -0.009178\n",
       "Weight    0.020034 -0.009178  1.000000"
      ]
     },
     "execution_count": 60,
     "metadata": {},
     "output_type": "execute_result"
    }
   ],
   "source": [
    "correlation_data = pv32_sample[pv32_non_cat_vars]\n",
    "correlation_matrix = correlation_data.corr()\n",
    "print(\"Correlation Matrix:\")\n",
    "correlation_matrix"
   ]
  },
  {
   "cell_type": "code",
   "execution_count": 62,
   "metadata": {
    "colab": {
     "base_uri": "https://localhost:8080/",
     "height": 468
    },
    "id": "hDX_EWzfbSOC",
    "outputId": "1aa1c51b-87c2-4ca5-fbd1-e21149e431ff"
   },
   "outputs": [
    {
     "data": {
      "image/png": "[encoded data removed]",
      "text/plain": [
       "<Figure size 800x500 with 2 Axes>"
      ]
     },
     "metadata": {},
     "output_type": "display_data"
    }
   ],
   "source": [
    "plt.figure(figsize=(8, 5))\n",
    "sns.heatmap(correlation_matrix, annot=True, cmap='coolwarm', linewidths=0.5)\n",
    "plt.title('Correlation Matrix Heatmap')\n",
    "plt.show()"
   ]
  },
  {
   "cell_type": "markdown",
   "metadata": {
    "id": "8hII5tlFbXBz"
   },
   "source": [
    "#### **> Observations:**\n",
    "\n",
    "**No Strong Linear Relationships:** As indicated by the correlation coefficients close to 0, there are no strong linear relationships between Quantity, Value, and Weight. This suggests that changes in one variable do not consistently lead to predictable changes in the others.\n",
    "\n",
    "**Weak Positive Correlation between Quantity and Weight:** A slight positive correlation (0.02) exists between Quantity and Weight. This suggests a weak tendency for an increase in Quantity to be associated with a slight increase in Weight. However, this relationship is extremely weak and may not be statistically significant.\n",
    "\n",
    "**Essentially Independent Variables:** Given the near-zero correlations between all pairs of variables, it can be inferred that the variables are largely independent of each other. This independence implies that changes in one variable are not significantly influenced by changes in the others."
   ]
  },
  {
   "cell_type": "markdown",
   "metadata": {
    "id": "Ep3FRtbtbt8Q"
   },
   "source": [
    "### **2. Categorical Variables**"
   ]
  },
  {
   "cell_type": "code",
   "execution_count": 66,
   "metadata": {
    "colab": {
     "base_uri": "https://localhost:8080/"
    },
    "id": "5KjtEl_XbTpA",
    "outputId": "67799e90-613f-42d1-9375-b4674459388c"
   },
   "outputs": [
    {
     "name": "stdout",
     "output_type": "stream",
     "text": [
      "Summary for Country:\n",
      "  Count: 5001\n",
      "  Minimum: 0.0\n",
      "  Maximum: 242.0\n",
      "  Mode: 49.0\n",
      "--------------------\n",
      "Summary for Product:\n",
      "  Count: 5001\n",
      "  Minimum: 0.0\n",
      "  Maximum: 967.0\n",
      "  Mode: 452.0\n",
      "--------------------\n",
      "Summary for Import_Export:\n",
      "  Count: 5001\n",
      "  Minimum: 0.0\n",
      "  Maximum: 1.0\n",
      "  Mode: 0.0\n",
      "--------------------\n",
      "Summary for Category:\n",
      "  Count: 5001\n",
      "  Minimum: 0.0\n",
      "  Maximum: 4.0\n",
      "  Mode: 3.0\n",
      "--------------------\n",
      "Summary for Port:\n",
      "  Count: 5001\n",
      "  Minimum: 0.0\n",
      "  Maximum: 4286.0\n",
      "  Mode: 1977.0\n",
      "--------------------\n",
      "Summary for Shipping_Method:\n",
      "  Count: 5001\n",
      "  Minimum: 0.0\n",
      "  Maximum: 2.0\n",
      "  Mode: 2.0\n",
      "--------------------\n",
      "Summary for Supplier:\n",
      "  Count: 5001\n",
      "  Minimum: 0.0\n",
      "  Maximum: 4556.0\n",
      "  Mode: 2008.0\n",
      "--------------------\n",
      "Summary for Customer:\n",
      "  Count: 5001\n",
      "  Minimum: 0.0\n",
      "  Maximum: 4840.0\n",
      "  Mode: 3365.0\n",
      "--------------------\n",
      "Summary for Customs_Code:\n",
      "  Count: 5001\n",
      "  Minimum: 0.0\n",
      "  Maximum: 4990.0\n",
      "  Mode: 139.0\n",
      "--------------------\n",
      "Summary for Payment_Terms:\n",
      "  Count: 5001\n",
      "  Minimum: 0.0\n",
      "  Maximum: 3.0\n",
      "  Mode: 1.0\n",
      "--------------------\n"
     ]
    }
   ],
   "source": [
    "# Categorical Data\n",
    "\n",
    "def pv32_categorical_summary(df, cat_cols):\n",
    "    summary = {}\n",
    "    for col in cat_cols:\n",
    "        if col in df.columns:\n",
    "            summary[col] = {\n",
    "                'Count': df[col].count(),\n",
    "                'Minimum': df[col].min(),\n",
    "                'Maximum': df[col].max(),\n",
    "                'Mode': df[col].mode().iloc[0],\n",
    "            }\n",
    "    return summary\n",
    "\n",
    "pv32_categorical_summaries = pv32_categorical_summary(pv32_sample, pv32_cat_vars)\n",
    "\n",
    "for col, stats in pv32_categorical_summaries.items():\n",
    "    print(f\"Summary for {col}:\")\n",
    "    for stat_name, stat_value in stats.items():\n",
    "        print(f\"  {stat_name}: {stat_value}\")\n",
    "    print(\"-\" * 20)  # separator"
   ]
  },
  {
   "cell_type": "markdown",
   "metadata": {
    "id": "DeL1ftOEb7Pz"
   },
   "source": [
    "## **Data Visualization**"
   ]
  },
  {
   "cell_type": "code",
   "execution_count": 69,
   "metadata": {
    "colab": {
     "base_uri": "https://localhost:8080/",
     "height": 528
    },
    "id": "ISHqBDxObzpE",
    "outputId": "88af06d3-74df-4624-c7ab-8b3b1e0134a3"
   },
   "outputs": [
    {
     "data": {
      "image/png": "[encoded data removed]",
      "text/plain": [
       "<Figure size 1500x1000 with 3 Axes>"
      ]
     },
     "metadata": {},
     "output_type": "display_data"
    }
   ],
   "source": [
    "# Box plots for non-categorical variables\n",
    "\n",
    "plt.figure(figsize=(15, 10))\n",
    "for i, col in enumerate(pv32_non_cat_vars):\n",
    "    plt.subplot(2, 3, i + 1)\n",
    "    sns.boxplot(y=pv32_sample[col])\n",
    "    plt.title(f'Box Plot of {col}')\n",
    "plt.tight_layout()\n",
    "plt.show()"
   ]
  },
  {
   "cell_type": "code",
   "execution_count": 70,
   "metadata": {
    "colab": {
     "base_uri": "https://localhost:8080/",
     "height": 547
    },
    "id": "tvegB0SRb-St",
    "outputId": "cb92020f-7432-4dbf-8002-95ff86ffd00c"
   },
   "outputs": [
    {
     "data": {
      "image/png": "[encoded data removed]",
      "text/plain": [
       "<Figure size 1500x1000 with 3 Axes>"
      ]
     },
     "metadata": {},
     "output_type": "display_data"
    }
   ],
   "source": [
    "# Histograms with KDE for distribution visualization\n",
    "plt.figure(figsize=(15, 10))\n",
    "for i, col in enumerate(pv32_non_cat_vars):\n",
    "    plt.subplot(2, 3, i + 1)\n",
    "    sns.histplot(pv32_sample[col], kde=True)\n",
    "    plt.title(f'Distribution of {col}')\n",
    "plt.tight_layout()\n",
    "plt.show()"
   ]
  },
  {
   "cell_type": "code",
   "execution_count": 72,
   "metadata": {
    "colab": {
     "base_uri": "https://localhost:8080/",
     "height": 472
    },
    "id": "a6RXplm7sjqo",
    "outputId": "0473caa2-6e48-4d98-e553-8b007c6bac72"
   },
   "outputs": [
    {
     "data": {
      "image/png": "[encoded data removed]",
      "text/plain": [
       "<Figure size 640x480 with 1 Axes>"
      ]
     },
     "metadata": {},
     "output_type": "display_data"
    }
   ],
   "source": [
    "# Violin Plot\n",
    "\n",
    "sns.violinplot(x='Category', y='Quantity', data=pv32_sample)\n",
    "plt.title('Distribution of Quantity across Categories')\n",
    "plt.show()"
   ]
  },
  {
   "cell_type": "markdown",
   "metadata": {
    "id": "kaH5SBqKcGZB"
   },
   "source": [
    "## **Inferential Statistics**"
   ]
  },
  {
   "cell_type": "code",
   "execution_count": 76,
   "metadata": {
    "colab": {
     "base_uri": "https://localhost:8080/"
    },
    "id": "IipaLRtecAyc",
    "outputId": "d6417194-c842-45d7-d56f-836726c5f474"
   },
   "outputs": [
    {
     "name": "stdout",
     "output_type": "stream",
     "text": [
      "Chi-square statistic: 3.7559583451969516\n",
      "P-value: 0.44003949227740957\n",
      "Degrees of freedom: 4\n",
      "Expected frequencies:\n",
      "[[511.12177564 506.61187762 480.55468906 515.13057389 492.58108378]\n",
      " [508.87822436 504.38812238 478.44531094 512.86942611 490.41891622]]\n",
      "There is no significant association between the two categorical variables.\n"
     ]
    }
   ],
   "source": [
    "# Test of Homogeneity {Chi-sq} on categorical data\n",
    "\n",
    "pv32_contingency_table = pd.crosstab(pv32_sample['Import_Export'], pv32_sample['Category'])\n",
    "\n",
    "# Perform the Chi-square test\n",
    "chi2, p, dof, expected = chi2_contingency(pv32_contingency_table)\n",
    "\n",
    "print(f\"Chi-square statistic: {chi2}\")\n",
    "print(f\"P-value: {p}\")\n",
    "print(f\"Degrees of freedom: {dof}\")\n",
    "print(\"Expected frequencies:\")\n",
    "print(expected)\n",
    "\n",
    "# Interpret the results\n",
    "pv32_alpha = 0.05  # Significance level\n",
    "\n",
    "if p < pv32_alpha:\n",
    "    print(\"Reject the null hypothesis: There is a significant association between the two categorical variables.\")\n",
    "else:\n",
    "    print(\"There is no significant association between the two categorical variables.\")"
   ]
  },
  {
   "cell_type": "code",
   "execution_count": 78,
   "metadata": {
    "id": "XBGqGwincKLd"
   },
   "outputs": [],
   "source": [
    "# Test of Normality {Shapiro-Wilk | Kolmogorov-Smirnov | Anderson-Darling | Jarque-Bera\n",
    "\n",
    "def normality_tests(data):\n",
    "\n",
    "    pv32_results = {}\n",
    "\n",
    "    # Shapiro-Wilk test\n",
    "    shapiro_statistic, shapiro_pvalue = shapiro(data)\n",
    "    pv32_results[\"Shapiro-Wilk\"] = {\"statistic\": shapiro_statistic, \"p-value\": shapiro_pvalue}\n",
    "\n",
    "    # Kolmogorov-Smirnov test (against a normal distribution)\n",
    "    ks_statistic, ks_pvalue = kstest(data, 'norm')\n",
    "    pv32_results[\"Kolmogorov-Smirnov\"] = {\"statistic\": ks_statistic, \"p-value\": ks_pvalue}\n",
    "\n",
    "    # Anderson-Darling test\n",
    "    anderson_result = anderson(data)\n",
    "    pv32_results[\"Anderson-Darling\"] = {\n",
    "        \"statistic\": anderson_result.statistic,\n",
    "        \"critical_values\": anderson_result.critical_values,\n",
    "        \"significance_level\": anderson_result.significance_level\n",
    "    }\n",
    "\n",
    "    # Jarque-Bera test\n",
    "    jb_statistic, jb_pvalue = jarque_bera(data)\n",
    "    pv32_results[\"Jarque-Bera\"] = {\"statistic\": jb_statistic, \"p-value\": jb_pvalue}\n",
    "\n",
    "    return pv32_results"
   ]
  },
  {
   "cell_type": "code",
   "execution_count": 80,
   "metadata": {
    "colab": {
     "base_uri": "https://localhost:8080/"
    },
    "id": "goJhkHyfcQ3-",
    "outputId": "2ff91dc7-f8e8-4310-8bd0-2c4bd071c336"
   },
   "outputs": [
    {
     "name": "stdout",
     "output_type": "stream",
     "text": [
      "Normality tests for Quantity:\n",
      "  Shapiro-Wilk: {'statistic': 0.9560671415848557, 'p-value': 2.222595208845189e-36}\n",
      "  Kolmogorov-Smirnov: {'statistic': 0.5, 'p-value': 0.0}\n",
      "  Anderson-Darling: {'statistic': 55.687214457717346, 'critical_values': array([0.576, 0.655, 0.786, 0.917, 1.091]), 'significance_level': array([15. , 10. ,  5. ,  2.5,  1. ])}\n",
      "  Jarque-Bera: {'statistic': 299.2625237907112, 'p-value': 1.0374534962819268e-65}\n",
      "T-test Correlation between Quantity and Value: {'t-statistic': 0.12686193821945668, 'p-value': 0.8990522226946485}\n",
      "T-test Correlation between Quantity and Weight: {'t-statistic': 0.04384566033310783, 'p-value': 0.9650283057994586}\n",
      "T-test Correlation between Value and Weight: {'t-statistic': -0.08245149582620902, 'p-value': 0.9342893378755649}\n",
      "\n",
      "********************\n",
      "\n",
      "Normality tests for Value:\n",
      "  Shapiro-Wilk: {'statistic': 0.9531083604914456, 'p-value': 2.530748946363641e-37}\n",
      "  Kolmogorov-Smirnov: {'statistic': 0.5, 'p-value': 0.0}\n",
      "  Anderson-Darling: {'statistic': 58.083579947467115, 'critical_values': array([0.576, 0.655, 0.786, 0.917, 1.091]), 'significance_level': array([15. , 10. ,  5. ,  2.5,  1. ])}\n",
      "  Jarque-Bera: {'statistic': 306.2562325436942, 'p-value': 3.142708346082673e-67}\n",
      "T-test Correlation between Quantity and Value: {'t-statistic': 0.12686193821945668, 'p-value': 0.8990522226946485}\n",
      "T-test Correlation between Quantity and Weight: {'t-statistic': 0.04384566033310783, 'p-value': 0.9650283057994586}\n",
      "T-test Correlation between Value and Weight: {'t-statistic': -0.08245149582620902, 'p-value': 0.9342893378755649}\n",
      "\n",
      "********************\n",
      "\n",
      "Normality tests for Weight:\n",
      "  Shapiro-Wilk: {'statistic': 0.9544632266894642, 'p-value': 6.749720843831747e-37}\n",
      "  Kolmogorov-Smirnov: {'statistic': 0.5, 'p-value': 0.0}\n",
      "  Anderson-Darling: {'statistic': 55.963615156048945, 'critical_values': array([0.576, 0.655, 0.786, 0.917, 1.091]), 'significance_level': array([15. , 10. ,  5. ,  2.5,  1. ])}\n",
      "  Jarque-Bera: {'statistic': 299.8644547343575, 'p-value': 7.678227839198204e-66}\n",
      "T-test Correlation between Quantity and Value: {'t-statistic': 0.12686193821945668, 'p-value': 0.8990522226946485}\n",
      "T-test Correlation between Quantity and Weight: {'t-statistic': 0.04384566033310783, 'p-value': 0.9650283057994586}\n",
      "T-test Correlation between Value and Weight: {'t-statistic': -0.08245149582620902, 'p-value': 0.9342893378755649}\n",
      "\n",
      "********************\n",
      "\n"
     ]
    }
   ],
   "source": [
    "from scipy import stats\n",
    "\n",
    "# Test of Correlation (T-test)\n",
    "def t_test_correlation(data1, data2):\n",
    "    t_statistic, p_value = stats.ttest_ind(data1, data2)\n",
    "    return {\"t-statistic\": t_statistic, \"p-value\": p_value}\n",
    "\n",
    "for col in pv32_non_cat_vars:\n",
    "    print(f\"Normality tests for {col}:\")\n",
    "    normality_test_results = normality_tests(pv32_sample[col])\n",
    "    for test_name, result in normality_test_results.items():\n",
    "        print(f\"  {test_name}: {result}\")\n",
    "\n",
    "    # Example of T-test\n",
    "    if len(pv32_non_cat_vars) > 1:\n",
    "        for i in range(len(pv32_non_cat_vars)):\n",
    "            for j in range(i+1, len(pv32_non_cat_vars)):\n",
    "                col1, col2 = pv32_non_cat_vars[i], pv32_non_cat_vars[j]\n",
    "                t_test_result = t_test_correlation(pv32_sample[col1], pv32_sample[col2])\n",
    "                print(f\"T-test Correlation between {col1} and {col2}: {t_test_result}\")\n",
    "    print()\n",
    "    print('*'*20)\n",
    "    print()"
   ]
  },
  {
   "cell_type": "markdown",
   "metadata": {
    "id": "pP_YH7twu0_J"
   },
   "source": [
    "**Observations for Normality Tests for Quantity**\r\n",
    "\r\n",
    "-   **Shapiro-Wilk:** The extremely low p-value (2.222595208845189e-36) strongly suggests that the Quantity data does not follow a normal distribution.\r\n",
    "-   **Kolmogorov-Smirnov:** With a p-value of 0.0, this test also strongly rejects the null hypothesis of normality, confirming that the Quantity data is not normally distributed.\r\n",
    "-   **Anderson-Darling:** The high test statistic (55.687214457717346) and comparison to critical values further supports the rejection of normality for the Quantity data.\r\n",
    "-   **Jarque-Bera:** Similar to the other tests, the extremely low p-value (1.0374534962819268e-65) provides strong evidence against the normality of the Quantity data.\r\n",
    "\r\n",
    "**Observations for Normality Tests for Value**\r\n",
    "\r\n",
    "-   **Shapiro-Wilk:** The extremely low p-value (2.530748946363641e-37) strongly indicates that the Value data does not follow a normal distribution.\r\n",
    "-   **Kolmogorov-Smirnov:** Similar to the Shapiro-Wilk test, the p-value of 0.0 leads to a strong rejection of the null hypothesis, confirming the non-normality of the Value data.\r\n",
    "-   **Anderson-Darling:** The high test statistic (58.083579947467115) and its comparison to critical values further support the rejection of normality for the Value data.\r\n",
    "-   **Jarque-Bera:** With an extremely low p-value (3.142708346082673e-67), this test also provides strong evidence against the normality of the Value data.\r\n",
    "\r\n",
    "**Observations for Normality Tests for Weight**\r\n",
    "\r\n",
    "-   **Shapiro-Wilk:** The extremely low p-value (6.749720843831747e-37) strongly indicates that the Weight data does not follow a normal distribution.\r\n",
    "-   **Kolmogorov-Smirnov:** With a p-value of 0.0, this test also strongly rejects the null hypothesis of normality, confirming that the Weight data is not normally distributed.\r\n",
    "-   **Anderson-Darling:** The high test statistic (55.963615156048945) and comparison to critical values further support the rejection of normality for the Weight data.\r\n",
    "-   **Jarque-Bera:** Similar to the other tests, the extremely low p-value (7.678227839198204e-66) provides strong evidence against the normality of the Weight data.\r\n"
   ]
  },
  {
   "cell_type": "markdown",
   "metadata": {
    "id": "outomOkrzxjQ"
   },
   "source": [
    "# **Supervised Learning**\n",
    "\n",
    "## **Split into test and train dataset**"
   ]
  },
  {
   "cell_type": "code",
   "execution_count": 84,
   "metadata": {
    "colab": {
     "base_uri": "https://localhost:8080/"
    },
    "id": "FtEeBfD10Abu",
    "outputId": "452c6791-af56-421c-e119-27f4a9d0f3f3"
   },
   "outputs": [
    {
     "name": "stdout",
     "output_type": "stream",
     "text": [
      "X_train shape: (3500, 2)\n",
      "X_test shape: (1501, 2)\n",
      "y_train shape: (3500, 1)\n",
      "y_test shape: (1501, 1)\n"
     ]
    }
   ],
   "source": [
    "pv32_X = pv32_processed[['Quantity','Weight']]  # Features (excluding 'Cluster')\n",
    "pv32_y = pv32_processed[['Shipping_Method']]  # Target variable\n",
    "\n",
    "pv32_X_train, pv32_X_test, pv32_y_train, pv32_y_test = train_test_split(pv32_X, pv32_y, test_size=0.3, random_state=55003)\n",
    "\n",
    "# Print the shapes of the resulting datasets\n",
    "print(\"X_train shape:\", pv32_X_train.shape)\n",
    "print(\"X_test shape:\", pv32_X_test.shape)\n",
    "print(\"y_train shape:\", pv32_y_train.shape)\n",
    "print(\"y_test shape:\", pv32_y_test.shape)"
   ]
  },
  {
   "cell_type": "markdown",
   "metadata": {
    "id": "0Qk3YY3bC2W1"
   },
   "source": [
    "# Classification\n",
    "## Decision Tree"
   ]
  },
  {
   "cell_type": "code",
   "execution_count": 87,
   "metadata": {
    "id": "K6p-95kQ1ODB"
   },
   "outputs": [],
   "source": [
    "# Initialize the Decision Tree Classifier\n",
    "pv32_dt_classifier = DecisionTreeClassifier(criterion='gini', random_state=55003)\n",
    "\n",
    "# Train the model\n",
    "pv32_dt_classifier.fit(pv32_X_train, pv32_y_train)\n",
    "\n",
    "# Make predictions on the test set\n",
    "pv32_y_pred_dt = pv32_dt_classifier.predict(pv32_X_test)"
   ]
  },
  {
   "cell_type": "code",
   "execution_count": 89,
   "metadata": {
    "colab": {
     "base_uri": "https://localhost:8080/"
    },
    "id": "3ps0InteDHV4",
    "outputId": "79f96fa5-0918-4425-b8f9-9876c915e5f2"
   },
   "outputs": [
    {
     "name": "stdout",
     "output_type": "stream",
     "text": [
      "Decision Tree Accuracy: 0.32045303131245834\n",
      "              precision    recall  f1-score   support\n",
      "\n",
      "         0.0       0.34      0.31      0.33       539\n",
      "         1.0       0.32      0.32      0.32       474\n",
      "         2.0       0.30      0.33      0.31       488\n",
      "\n",
      "    accuracy                           0.32      1501\n",
      "   macro avg       0.32      0.32      0.32      1501\n",
      "weighted avg       0.32      0.32      0.32      1501\n",
      "\n"
     ]
    }
   ],
   "source": [
    "# Evaluate the model\n",
    "from sklearn.metrics import classification_report, accuracy_score, confusion_matrix\n",
    "pv32_accuracy_dt = accuracy_score(pv32_y_test, pv32_y_pred_dt)\n",
    "print(f\"Decision Tree Accuracy: {pv32_accuracy_dt}\")\n",
    "print(classification_report(pv32_y_test, pv32_y_pred_dt))"
   ]
  },
  {
   "cell_type": "markdown",
   "metadata": {
    "id": "ZCb7xLsODRQr"
   },
   "source": [
    "**Decision Tree Model Performance**\r\n",
    "\r\n",
    "**Overall Accuracy:**\r\n",
    "\r\n",
    "The model achieved an accuracy of 0.32 (or 32%). This means the model correctly predicted the class for 32% of the instances in the dataset.\r\n",
    "\r\n",
    "**Class-wise Performance:**\r\n",
    "\r\n",
    "-   **Class 0.0:**\r\n",
    "    \r\n",
    "    -   Precision: 0.34\r\n",
    "    -   Recall: 0.31\r\n",
    "    -   F1-score: 0.33\r\n",
    "    -   Support: 539\r\n",
    "-   **Class 1.0:**\r\n",
    "    \r\n",
    "    -   Precision: 0.32\r\n",
    "    -   Recall: 0.32\r\n",
    "    -   F1-score: 0.32\r\n",
    "    -   Support: 474\r\n",
    "-   **Class 2.0:**\r\n",
    "    \r\n",
    "    -   Precision: 0.30\r\n",
    "    -   Recall: 0.33\r\n",
    "    -   F1-score: 0.31\r\n",
    "    -   Support: 488\r\n",
    "\r\n",
    "**Interpretation:**\r\n",
    "\r\n",
    "-   **Precision:** The percentage of correctly predicted instances among all instances predicted as belonging to that class.\r\n",
    "-   **Recall:** The percentage of correctly predicted instances among all actual instances of that class.\r\n",
    "-   **F1-score:** The harmonic mean of precision and recall, providi the model's performance on the entire dataset.\r\n",
    "\r\n",
    "**Support:**\r\n",
    "\r\n",
    "-   Class\r\n"
   ]
  },
  {
   "cell_type": "code",
   "execution_count": 92,
   "metadata": {
    "colab": {
     "base_uri": "https://localhost:8080/",
     "height": 564
    },
    "id": "ij1WA9PHDRkZ",
    "outputId": "200745b3-adb6-42d3-86bd-6023e1d420af"
   },
   "outputs": [
    {
     "data": {
      "image/png": "[encoded data removed]",
      "text/plain": [
       "<Figure size 800x600 with 2 Axes>"
      ]
     },
     "metadata": {},
     "output_type": "display_data"
    }
   ],
   "source": [
    "# Confusion matrix\n",
    "\n",
    "pv32_cm = confusion_matrix(pv32_y_test, pv32_y_pred_dt)\n",
    "\n",
    "# Plot the confusion matrix using seaborn\n",
    "plt.figure(figsize=(8, 6))\n",
    "sns.heatmap(pv32_cm, annot=True, fmt='d', cmap='Blues',\n",
    "            xticklabels=pv32_dt_classifier.classes_, yticklabels=pv32_dt_classifier.classes_)\n",
    "plt.xlabel('Predicted')\n",
    "plt.ylabel('Actual')\n",
    "plt.title('Confusion Matrix for Decision Tree')\n",
    "plt.show()"
   ]
  },
  {
   "cell_type": "markdown",
   "metadata": {
    "id": "P2Q8LpWPFA5e"
   },
   "source": [
    "### **Observations: Confusion Matrix for Decision Tree with Cluster-Specific Observations**\r\n",
    "\r\n",
    "The confusion matrix provides insights into the Decision Tree's performance on classifying data across three clusters (classes). Here's a detailed class-wise and cluster-specific analysis:\r\n",
    "\r\n",
    "---\r\n",
    "\r\n",
    "#### **Class-Wise Observations:**\r",
    "ss 0.0 (Custer 0):**\r\n",
    "   - **Correctly Predicted:** **168** instances (True Positives).\r\n",
    "   - **Misclassified as Class 1.0:** **168** instances.\r\n",
    "   - **Misclassified as Class 2.0:** **203** instances.\r\n",
    "   - **Cluster-Specific Observation:** Cluster 0 has a high misclassification rate, with a significant proportion of instances misclassified as Class 2.0. This suggests an overlap or similarity in features between Clusters 0 a **Class .0 (Cluster 1):**\r\n",
    "   - **Correctly Predicted:** **152** instances (True Positives).\r\n",
    "   - **Misclassified as Class 0.0:** **146** instances.\r\n",
    "   - **Misclassified as Class 2.0:** **176** instances.\r\n",
    "   - **Cluster-Specific Observation:** Cluster 1 shows balanced misclassification between Clusters 0 and 2. This indicates that the feature space for Cluster 1 is not distinct enough, leading to confusion with the othe\r\n",
    "\r\n",
    "3. **lass 2.0 (Cluster 2):**\r\n",
    "   - **Correctly Predicted:** **161** instances (True Positives).\r\n",
    "   - **Misclassified as Class 0.0:** **174** instances.\r\n",
    "   - **Misclassified as Class 1.0:** **153** instances.\r\n",
    "   - **Cluster-Specific Observation:** Cluster 2 exhibits frequent misclassification into Clusters 0 and 1. This highlights overlapping decision boundaries and a lack of clear separability for Cluster 2.\r\n",
    "\r\n",
    "---\r\n",
    "\r\n",
    "#### **Overall Observations:**\r\n",
    "\r\n",
    "1. **Accuracy Issues:**\r\n",
    "   - The overall accuracy of **32%** reflects significant misclassification across all clusters, indicating the model's inability to distinguish between them effectively.\r\n",
    "\r\n",
    "2. **Cluster Overlap:**\r\n",
    "   - The high rate of misclassification among Clusters 0, 1, and 2 suggests substantial overlap in the feature space, leading to ambiguity in decision boundaries.\r\n",
    "\r\n",
    "3. **Balanced Misclassification Across Clusters:**\r\n",
    "   - No cluster is disproportionately better or worse in performance, implying that the underlying issue might be global (a minimum samples per leaf to improve class separation.\r\n",
    "\r\n"
   ]
  },
  {
   "cell_type": "markdown",
   "metadata": {
    "id": "aZEcn8vyFD43"
   },
   "source": [
    "\n",
    "### **K Nearest Neighbours**"
   ]
  },
  {
   "cell_type": "code",
   "execution_count": 96,
   "metadata": {
    "colab": {
     "base_uri": "https://localhost:8080/"
    },
    "id": "e0BAFXvF1n_D",
    "outputId": "bd7f8742-bc3e-4b91-8f65-3e7eaaeadf97"
   },
   "outputs": [
    {
     "name": "stdout",
     "output_type": "stream",
     "text": [
      "Accuracy: 0.33111259160559625\n",
      "              precision    recall  f1-score   support\n",
      "\n",
      "         0.0       0.36      0.43      0.39       539\n",
      "         1.0       0.30      0.31      0.31       474\n",
      "         2.0       0.32      0.24      0.27       488\n",
      "\n",
      "    accuracy                           0.33      1501\n",
      "   macro avg       0.33      0.33      0.32      1501\n",
      "weighted avg       0.33      0.33      0.33      1501\n",
      "\n"
     ]
    }
   ],
   "source": [
    "import pandas as pd\n",
    "from sklearn.model_selection import train_test_split\n",
    "from sklearn.neighbors import KNeighborsClassifier\n",
    "from sklearn.metrics import accuracy_score, classification_report\n",
    "\n",
    "\n",
    "# 2. Create and train the KNN classifier\n",
    "knn = KNeighborsClassifier(n_neighbors=5)  # You can adjust the number of neighbors (k)\n",
    "knn.fit(pv32_X_train, pv32_y_train)\n",
    "\n",
    "# 3. Make predictions on the test set\n",
    "y_pred = knn.predict(pv32_X_test)\n",
    "\n",
    "# 4. Evaluate the model\n",
    "pv32_accuracy_knn = accuracy_score(pv32_y_test, y_pred)\n",
    "print(f\"Accuracy: {pv32_accuracy_knn}\")\n",
    "print(classification_report(pv32_y_test, y_pred))"
   ]
  },
  {
   "cell_type": "markdown",
   "metadata": {
    "id": "jw1AcrkfFeu1"
   },
   "source": [
    "### **Updated Observations: Decision Tree Model Performance**\r\n",
    "\r\n",
    "#### **Overall Accuracy:**\r\n",
    "\r\n",
    "The Decision Tree model achieved an accuracy of **33.11%**. This indicates that the model correctly predicted the class for approximately one-third of the instances in the dataset, reflecting low classification performance.\r\n",
    "\r\n",
    "---\r\n",
    "\r\n",
    "#### **Class-Wise Performance:**\r\n",
    "\r\n",
    "1. **Class 0.0:**\r\n",
    "   - **Precision:** 0.36\r\n",
    "   - **Recall:** 0.43\r\n",
    "   - **F1-score:** 0.39\r\n",
    "   - **Support:** 539 instances\r\n",
    "   - **Observation:** Class 0.0 has the highest recall among the three classes, indicating better identification of actual instances belonging to this class, though precision remains moderate.\r\n",
    "\r\n",
    "2. **Class 1.0:**\r\n",
    "   - **Precision:** 0.30\r\n",
    "   - **Recall:** 0.31\r\n",
    "   - **F1-score:** 0.31\r\n",
    "   - **Support:** 474 instances\r\n",
    "   - **Observation:** Class 1.0 has the lowest precision and recall among the classes, showing significant challenges in distinguishing instances correctly.\r\n",
    "\r\n",
    "3. **Class 2.0:**\r\n",
    "   - **Precision:** 0.32\r\n",
    "   - **Recall:** 0.24\r\n",
    "   - **F1-score:** 0.27\r\n",
    "   - **Support:** 488 instances\r\n",
    "   - **Observation:** Class 2.0 has the lowest recall, indicating a high rate of false negatives for this class. The F1-score is the lowest across all classes, signifying poor overall performatively balanced support across classes.\r\n",
    "\r\n",
    "---\r\n",
    "\r\n",
    "#### **Cluster-Specific Observations:**\r\n",
    "\r\n",
    "1. **Cluster 0:**\r\n",
    "   - The relatively high recall (0.43) for Cluster 0 indicates better detection of instances in this cluster compared to others. However, precision (0.36) shows room for improvement in reducing false positives.\r\n",
    "\r\n",
    "2. **Cluster 1:**\r\n",
    "   - Precision (0.30) and recall (0.31) for Cluster 1 are both low, suggesting significant misclassification into other clusters.\r\n",
    "\r\n",
    "3. **Cluster 2:**\r\n",
    "   - The low recall (0.24) for Cluster 2 highlights that the model struggles to identify instances in this cluster, contributing to poor performance metrics.\r\n",
    "\r\n",
    "---\r\n",
    "\r\n",
    "#### **Key Insights:**\r\n",
    "\r\n",
    "1. **Imbalanced Class Performance:**\r\n",
    "   - The model performs better for Cluster 0 compared to Clusters 1 and 2, which exhibit significantly lower recall and F1-scores.\r\n",
    "\r\n",
    "2. **High False Negatives:**\r\n",
    "   - Particularly for Class 2.0, the high rate of false negatives impacts recall and F1-score negatively.\r\n",
    "\r\n",
    "3. **Consistently Low Precision:**\r\n",
    "   - Across all classes, precisionion to ensure robustness and reliability of the model across different splits of the dataset.\r\n",
    "\r\n"
   ]
  },
  {
   "cell_type": "markdown",
   "metadata": {
    "id": "W2GEbjGgFnCG"
   },
   "source": [
    "\n",
    "### **Naive Bayes (NB)**"
   ]
  },
  {
   "cell_type": "code",
   "execution_count": 100,
   "metadata": {
    "colab": {
     "base_uri": "https://localhost:8080/"
    },
    "id": "R1jjkFXW1qWm",
    "outputId": "812c9305-8a4b-4b23-e1cb-070e22b1e76f"
   },
   "outputs": [
    {
     "name": "stdout",
     "output_type": "stream",
     "text": [
      "Accuracy: 0.31712191872085277\n",
      "              precision    recall  f1-score   support\n",
      "\n",
      "         0.0       0.37      0.13      0.19       539\n",
      "         1.0       0.26      0.14      0.18       474\n",
      "         2.0       0.32      0.70      0.44       488\n",
      "\n",
      "    accuracy                           0.32      1501\n",
      "   macro avg       0.32      0.32      0.27      1501\n",
      "weighted avg       0.32      0.32      0.27      1501\n",
      "\n"
     ]
    }
   ],
   "source": [
    "import pandas as pd\n",
    "from sklearn.model_selection import train_test_split\n",
    "from sklearn.naive_bayes import GaussianNB  # Or MultinomialNB, BernoulliNB\n",
    "from sklearn.metrics import accuracy_score, classification_report\n",
    "\n",
    "# 2. Create and train the Naive Bayes classifier\n",
    "nb = GaussianNB()  # Choose the appropriate NB type (GaussianNB, MultinomialNB, BernoulliNB)\n",
    "nb.fit(pv32_X_train, pv32_y_train)\n",
    "\n",
    "# 3. Make predictions on the test set\n",
    "pv32_y_pred = nb.predict(pv32_X_test)\n",
    "\n",
    "# 4. Evaluate the model\n",
    "pv32_accuracy_nb = accuracy_score(pv32_y_test, pv32_y_pred)\n",
    "print(f\"Accuracy: {pv32_accuracy_nb}\")\n",
    "print(classification_report(pv32_y_test, pv32_y_pred))"
   ]
  },
  {
   "cell_type": "markdown",
   "metadata": {
    "id": "HjAf87CBGAOf"
   },
   "source": [
    "### **Naive Bayes Model Performance**\r\n",
    "\r\n",
    "#### **Overall Accuracy:**\r\n",
    "\r\n",
    "The Naive Bayes model achieved an accuracy of **31.71%**, indicating low classification performance. This means the model correctly classified approximately 32% of the instances in the dataset.\r\n",
    "\r\n",
    "---\r\n",
    "\r\n",
    "#### **Class-Wise Performance:**\r\n",
    "\r\n",
    "1. **Class 0.0:**\r\n",
    "   - **Precision:** 0.37\r\n",
    "   - **Recall:** 0.13\r\n",
    "   - **F1-score:** 0.19\r\n",
    "   - **Support:** 539 instances\r\n",
    "   - **Observation:** While the precision for Class 0.0 is relatively high, the low recall (0.13) suggests that the model struggles to correctly identify instances belonging to this class.\r\n",
    "\r\n",
    "2. **Class 1.0:**\r\n",
    "   - **Precision:** 0.26\r\n",
    "   - **Recall:** 0.14\r\n",
    "   - **F1-score:** 0.18\r\n",
    "   - **Support:** 474 instances\r\n",
    "   - **Observation:** Class 1.0 has the lowest precision and recall, indicating the model performs poorly in identifying and correctly classifying instances for this class.\r\n",
    "\r\n",
    "3. **Class 2.0:**\r\n",
    "   - **Precision:** 0.32\r\n",
    "   - **Recall:** 0.70\r\n",
    "   - **F1-score:** 0.44\r\n",
    "   - **Support:** 488 instances\r\n",
    "   - **Observation:** Class 2.0 exhibits high recall (0.70), meaning the model effectively identifies most instances of this class. However, its precision (0.32) indicates a high number of false positives, leading to a molanced misclassification across classes.\r\n",
    "\r\n",
    "---\r\n",
    "\r\n",
    "#### **Cluster-Specific Observations:**\r\n",
    "\r\n",
    "1. **Cluster 0:**\r\n",
    "   - Low recall (0.13) for Cluster 0 indicates that the model misses most instances of this cluster, contributing to a low F1-score (0.19).\r\n",
    "\r\n",
    "2. **Cluster 1:**\r\n",
    "   - The model performs poorly on Cluster 1, with the lowest precision (0.26) and recall (0.14) across all clusters, indicating significant misclassification.\r\n",
    "\r\n",
    "3. **Cluster 2:**\r\n",
    "   - High recall (0.70) for Cluster 2 indicates that the model effectively identifies most instances in this cluster, but the low precision (0.32) highlights a high rate of false positives.\r\n",
    "\r\n",
    "---\r\n",
    "\r\n",
    "#### **Key Insights:**\r\n",
    "\r\n",
    "1. **Class Imbalance in Performance:**\r\n",
    "   - The model performs significantly better for Cluster 2 (high recall) compared to Clusters 0 and 1, which suffer from very low recall and F1-scores.\r\n",
    "\r\n",
    "2. **High False Negatives for Clusters 0 and 1:**\r\n",
    "   - The low recall for Clusters 0 and 1 suggests the model is unable to correctly classify many instances in these clusters.\r\n",
    "\r\n",
    "3. **High False Positives for Cluster 2:**\r\n",
    "   - While Cluster 2 achieves high recall, the precision is relatively low, indicating frequent ms, possibly due to overlapping features or insufficient representation in the training data.\r\n",
    "\r\n"
   ]
  },
  {
   "cell_type": "markdown",
   "metadata": {
    "id": "32hZsJhd2IDR"
   },
   "source": [
    "## **Logistic Regression**"
   ]
  },
  {
   "cell_type": "code",
   "execution_count": 104,
   "metadata": {
    "colab": {
     "base_uri": "https://localhost:8080/"
    },
    "id": "7JZic39k13AM",
    "outputId": "f91eb9b6-efa7-4cd6-be8d-d648c6881c8c"
   },
   "outputs": [
    {
     "name": "stdout",
     "output_type": "stream",
     "text": [
      "Logistic Regression Accuracy: 0.32378414390406396\n",
      "              precision    recall  f1-score   support\n",
      "\n",
      "         0.0       0.37      0.22      0.28       539\n",
      "         1.0       0.26      0.10      0.14       474\n",
      "         2.0       0.32      0.66      0.43       488\n",
      "\n",
      "    accuracy                           0.32      1501\n",
      "   macro avg       0.32      0.33      0.28      1501\n",
      "weighted avg       0.32      0.32      0.28      1501\n",
      "\n"
     ]
    }
   ],
   "source": [
    "# Initialize the Logistic Regression model\n",
    "pv32_logreg_classifier = LogisticRegression(random_state=55003)\n",
    "\n",
    "# Train the model\n",
    "pv32_logreg_classifier.fit(pv32_X_train, pv32_y_train)\n",
    "\n",
    "# Make predictions on the test set\n",
    "pv32_y_pred_logreg = pv32_logreg_classifier.predict(pv32_X_test)\n",
    "\n",
    "# Evaluate the model\n",
    "pv32_accuracy_logreg = accuracy_score(pv32_y_test, pv32_y_pred_logreg)\n",
    "print(f\"Logistic Regression Accuracy: {pv32_accuracy_logreg}\")\n",
    "print(classification_report(pv32_y_test, pv32_y_pred_logreg))"
   ]
  },
  {
   "cell_type": "markdown",
   "metadata": {
    "id": "-2qoezHfGw0x"
   },
   "source": [
    "### **Logistic Regression Model Performance**\r\n",
    "\r\n",
    "#### **Overall Accuracy:**\r\n",
    "\r\n",
    "The Logistic Regression model achieved an accuracy of **32.38%**, indicating low classification performance. The model correctly predicted approximately one-third of the instances in the dataset.\r\n",
    "\r\n",
    "---\r\n",
    "\r\n",
    "#### **Class-Wise Performance:**\r\n",
    "\r\n",
    "1. **Class 0.0:**\r\n",
    "   - **Precision:** 0.37\r\n",
    "   - **Recall:** 0.22\r\n",
    "   - **F1-score:** 0.28\r\n",
    "   - **Support:** 539 instances\r\n",
    "   - **Observation:** Class 0.0 exhibits moderate precision but low recall, indicating a significant number of false negatives. The low F1-score reflects the model's difficulty in effectively identifying this class.\r\n",
    "\r\n",
    "2. **Class 1.0:**\r\n",
    "   - **Precision:** 0.26\r\n",
    "   - **Recall:** 0.10\r\n",
    "   - **F1-score:** 0.14\r\n",
    "   - **Support:** 474 instances\r\n",
    "   - **Observation:** Class 1.0 has the lowest recall, precision, and F1-score, signifying substantial challenges in distinguishing instances for this class.\r\n",
    "\r\n",
    "3. **Class 2.0:**\r\n",
    "   - **Precision:** 0.32\r\n",
    "   - **Recall:** 0.66\r\n",
    "   - **F1-score:** 0.43\r\n",
    "   - **Support:** 488 instances\r\n",
    "   - **Observation:** Class 2.0 achieves the highest recall (0.66), indicating the model is effective in identifying most instances of this class. However, precision (0.32) indicates a significant number of false positives, leadrequent misclassification of other clusters as Cluster 2.\r\n",
    "\r\n",
    "---\r\n",
    "\r\n",
    "#### **Key Insights:**\r\n",
    "\r\n",
    "1. **High False Negatives for Clusters 0 and 1:**\r\n",
    "   - Low recall for Clusters 0 and 1 suggests the model struggles to correctly classify these instances, leading to high false negatives.\r\n",
    "\r\n",
    "2. **High False Positives for Cluster 2:**\r\n",
    "   - Cluster 2 has a significant proportion of misclassified instances from other clusters, as evidenced by the low precision (0.32).\r\n",
    "\r\n",
    "3. **Imbalanced Performance Across Classes:**\r\n",
    "   - The model performs significantly better for Cluster 2 compaysis to understand overlapping regions in the feature space and enhance class separability.\r\n",
    "\r\n"
   ]
  },
  {
   "cell_type": "code",
   "execution_count": 107,
   "metadata": {
    "colab": {
     "base_uri": "https://localhost:8080/",
     "height": 564
    },
    "id": "7HLvoQ3WG2Ac",
    "outputId": "a9860c33-b2fb-4edd-d6c3-7ec35a1feb0a"
   },
   "outputs": [
    {
     "data": {
      "image/png": "[encoded data removed]",
      "text/plain": [
       "<Figure size 800x600 with 2 Axes>"
      ]
     },
     "metadata": {},
     "output_type": "display_data"
    }
   ],
   "source": [
    "\n",
    "# Confusion Matrix for Logistic Regression\n",
    "cm_logreg = confusion_matrix(pv32_y_test, pv32_y_pred_logreg)\n",
    "\n",
    "# Plot the confusion matrix for Logistic Regression\n",
    "plt.figure(figsize=(8, 6))\n",
    "sns.heatmap(cm_logreg, annot=True, fmt='d', cmap='Greens',  # Different colormap\n",
    "            xticklabels=pv32_logreg_classifier.classes_, yticklabels=pv32_logreg_classifier.classes_)\n",
    "plt.xlabel('Predicted')\n",
    "plt.ylabel('Actual')\n",
    "plt.title('Confusion Matrix for Logistic Regression')\n",
    "plt.show()"
   ]
  },
  {
   "cell_type": "markdown",
   "metadata": {
    "id": "WQ93b2QuHMdV"
   },
   "source": [
    "### **Confusion Matrix Observations for Logistic Regression**\r\n",
    "\r\n",
    "#### **Class-Wise Observations:**\r\n",
    "\r\n",
    "1. **Class 0.0 (Actual):**\r\n",
    "   - **Correctly Predicted (True Positives):** 120 instances.\r\n",
    "   - **Misclassified as Class 1.0:** 73 instances.\r\n",
    "   - **Misclassified as Class 2.0:** 346 instances.\r\n",
    "   - **Observation:** Class 0.0 has a significant misclassification rate, with the majority of instances (346) incorrectly predicted as Class 2.0. This indicates difficulty in separating Class 0.0 from Class 2.0 in the feature space.\r\n",
    "\r\n",
    "2. **Class 1.0 (Actual):**\r\n",
    "   - **Correctly Predicted (True Positives):** 46 instances.\r\n",
    "   - **Misclassified as Class 0.0:** 93 instances.\r\n",
    "   - **Misclassified as Class 2.0:** 335 instances.\r\n",
    "   - **Observation:** Class 1.0 has the lowest true positive rate, with the majority of instances (335) misclassified as Class 2.0. This suggests that the model struggles significantly with distinguishing Class 1.0.\r\n",
    "\r\n",
    "3. **Class 2.0 (Actual):**\r\n",
    "   - **Correctly Predicted (True Positives):** 320 instances.\r\n",
    "   - **Misclassified as Class 0.0:** 112 instances.\r\n",
    "   - **Misclassified as Class 1.0:** 56 instances.\r\n",
    "   - **Observation:** Class 2.0 has the highest true positive rate, indicating that the model is more effective in identifying instances belonging to this class. However, it still suffers from a moderate level of misclassification into Class 0.0 and Class 1.0.\r\n",
    "\r\n",
    "---\r\n",
    "\r\n",
    "#### **Overall Observations:**\r\n",
    "\r\n",
    "1. **Performance Across Classes:**\r\n",
    "   - The model performs best for Class 2.0 (highest recall) but struggles significantly with Classes 0.0 and 1.0, where a large proportion of instances are misclassified as Class 2.0.\r\n",
    "\r\n",
    "2. **Imbalance in Misclassifications:**\r\n",
    "   - Class 0.0 and Class 1.0 have a high misclassification rate into Class 2.0, highlighting overlapping feature distributions between these classes.\r\n",
    "\r\n",
    "3. **High False Negatives:**\r\n",
    "   - Classes 0.0 and 1.0 exhibit high false negatives, as most of their actual instances are misclagnificant scope for improvement in the model's performance.\r\n"
   ]
  },
  {
   "cell_type": "markdown",
   "metadata": {
    "id": "dP2bxVOTHUUz"
   },
   "source": [
    "\n",
    "### **K-Fold Cross Validation for Logistic Regression**"
   ]
  },
  {
   "cell_type": "code",
   "execution_count": 111,
   "metadata": {
    "colab": {
     "base_uri": "https://localhost:8080/"
    },
    "id": "xWiyFpZRHc7F",
    "outputId": "59a7bb64-2dd3-4446-86f9-20e90b259c9a"
   },
   "outputs": [
    {
     "name": "stdout",
     "output_type": "stream",
     "text": [
      "K-Fold Cross-Validation Accuracy Scores:  [0.36142857 0.33428571 0.32571429 0.37428571 0.35571429]\n",
      "Mean Accuracy:  0.35028571428571426\n",
      "Standard Deviation of Accuracy:  0.017829120870654497\n",
      "Logistic Regression Test Set Accuracy: 0.32378414390406396\n",
      "              precision    recall  f1-score   support\n",
      "\n",
      "         0.0       0.37      0.22      0.28       539\n",
      "         1.0       0.26      0.10      0.14       474\n",
      "         2.0       0.32      0.66      0.43       488\n",
      "\n",
      "    accuracy                           0.32      1501\n",
      "   macro avg       0.32      0.33      0.28      1501\n",
      "weighted avg       0.32      0.32      0.28      1501\n",
      "\n"
     ]
    }
   ],
   "source": [
    "# Initialize the Logistic Regression model\n",
    "pv32_logreg_classifier = LogisticRegression(random_state=55003)\n",
    "\n",
    "# Set up K-Fold Cross-Validation\n",
    "kfold = KFold(n_splits=5, shuffle=True, random_state=55003)\n",
    "\n",
    "# Perform Cross-Validation\n",
    "cv_accuracy = cross_val_score(pv32_logreg_classifier, pv32_X_train, pv32_y_train, cv=kfold, scoring='accuracy')\n",
    "\n",
    "# Output Cross-Validation results\n",
    "print(\"K-Fold Cross-Validation Accuracy Scores: \", cv_accuracy)\n",
    "print(\"Mean Accuracy: \", cv_accuracy.mean())\n",
    "print(\"Standard Deviation of Accuracy: \", cv_accuracy.std())\n",
    "\n",
    "# Train the model on the entire training set (if needed for later use)\n",
    "pv32_logreg_classifier.fit(pv32_X_train, pv32_y_train)\n",
    "\n",
    "# Evaluate the model on the test set\n",
    "pv32_y_pred_logreg = pv32_logreg_classifier.predict(pv32_X_test)\n",
    "pv32_accuracy_logreg = accuracy_score(pv32_y_test, pv32_y_pred_logreg)\n",
    "print(f\"Logistic Regression Test Set Accuracy: {pv32_accuracy_logreg}\")\n",
    "print(classification_report(pv32_y_test, pv32_y_pred_logreg))"
   ]
  },
  {
   "cell_type": "markdown",
   "metadata": {
    "id": "UgWswEDuHv6f"
   },
   "source": [
    "### **Logistic Regression Model Performance with K-Fold Cross-Validation**\r\n",
    "\r\n",
    "#### **K-Fold Cross-Validation Results:**\r\n",
    "\r\n",
    "1. **Accuracy Scores:**  \r\n",
    "   - `[0.3614, 0.3343, 0.3257, 0.3743, 0.3557]`\r\n",
    "   - The accuracy scores across 5 folds range between **32.57%** and **37.43%**.\r\n",
    "\r\n",
    "2. **Mean Accuracy:**  \r\n",
    "   - **35.03%**  \r\n",
    "   - The mean accuracy across all folds indicates that the model consistently performs around 35% on the dataset.\r\n",
    "\r\n",
    "3. **Standard Deviation of Accuracy:**  \r\n",
    "   - **0.0178**  \r\n",
    "   - The low standard deviation suggests that the model's performance is stable across different folds with little variance.\r\n",
    "\r\n",
    "---\r\n",
    "\r\n",
    "#### **Test Set Performance:**\r\n",
    "\r\n",
    "1. **Test Set Accuracy:**  \r\n",
    "   - **32.38%**  \r\n",
    "   - The test set accuracy is slightly lower than the mean cross-validation accuracy, suggesting that the model generalizes moderately well but struggles to capture the complexity of the test data.\r\n",
    "\r\n",
    "2. **Class-Wise Performance:**\r\n",
    "\r\n",
    "   - **Class 0.0:**  \r\n",
    "     - **Precision:** 0.37  \r\n",
    "     - **Recall:** 0.22  \r\n",
    "     - **F1-score:** 0.28  \r\n",
    "     - **Support:** 539 instances  \r\n",
    "     - **Observation:** Class 0.0 shows moderate precision but suffers from low recall, indicating that many instances are misclassified into other classes.\r\n",
    "\r\n",
    "   - **Class 1.0:**  \r\n",
    "     - **Precision:** 0.26  \r\n",
    "     - **Recall:** 0.10  \r\n",
    "     - **F1-score:** 0.14  \r\n",
    "     - **Support:** 474 instances  \r\n",
    "     - **Observation:** Class 1.0 has the lowest recall and F1-score, highlighting poor model performance for this class.\r\n",
    "\r\n",
    "   - **Class 2.0:**  \r\n",
    "     - **Precision:** 0.32  \r\n",
    "     - **Recall:** 0.66  \r\n",
    "     - **F1-score:** 0.43  \r\n",
    "     - **Support:** 488 instances  \r\n",
    "     - **Observation:** Class 2.0 exhibits the highest recall, indicating that the model correctly identifies a majority of instances from this class. However, precision is lro averages, indicating balanced but suboptimal performance.\r\n",
    "\r\n",
    "---\r\n",
    "\r\n",
    "#### **Key Insights:**\r\n",
    "\r\n",
    "1. **Generalization Capability:**  \r\n",
    "   - The cross-validation results suggest moderate generalization capability with stable performance across folds. However, the test set accuracy indicates a slight decline in performance, showing that the model struggles to capture test data patterns.\r\n",
    "\r\n",
    "2. **Class Imbalance in Performance:**  \r\n",
    "   - The model performs better for Class 2.0 (higher recall) but struggles significantly with Class 0.0 and Class 1.0, which have low recall and F1-scores.\r\n",
    "\r\n",
    "3. **High False Negatives for Classes 0.0 and 1.0:**  \r\n",
    "   - The low recall for these classes indicates the model fails to correctly identify many instances of these categories.\r\n",
    "\r\n",
    "4. **High False Positives for Class 2.0:**  \r\n",
    "   - Class 2.0 shows high recall but lowmber of folds in cross-validation to ensure robustness and reduce variance in performance metrics.\r\n",
    "\r\n"
   ]
  },
  {
   "cell_type": "markdown",
   "metadata": {
    "id": "rvBE3UY2Hz46"
   },
   "source": [
    "\n",
    "### **K-Fold Cross Validation for Support Vector Machine (SVM)**"
   ]
  },
  {
   "cell_type": "code",
   "execution_count": 115,
   "metadata": {
    "colab": {
     "base_uri": "https://localhost:8080/"
    },
    "id": "wUd-zvbsH1SW",
    "outputId": "862bf6b3-ff84-4a7d-ebb0-72e3a3752892"
   },
   "outputs": [
    {
     "name": "stdout",
     "output_type": "stream",
     "text": [
      "K-Fold Cross-Validation Accuracy Scores:  [0.35428571 0.35571429 0.34857143 0.35857143 0.35142857]\n",
      "Mean Accuracy:  0.3537142857142857\n",
      "Standard Deviation of Accuracy:  0.0034522988495984505\n",
      "SVM Test Set Accuracy: 0.3251165889407062\n",
      "              precision    recall  f1-score   support\n",
      "\n",
      "         0.0       0.00      0.00      0.00       539\n",
      "         1.0       0.00      0.00      0.00       474\n",
      "         2.0       0.33      1.00      0.49       488\n",
      "\n",
      "    accuracy                           0.33      1501\n",
      "   macro avg       0.11      0.33      0.16      1501\n",
      "weighted avg       0.11      0.33      0.16      1501\n",
      "\n"
     ]
    }
   ],
   "source": [
    "from sklearn.svm import SVC\n",
    "from sklearn.model_selection import KFold, cross_val_score\n",
    "from sklearn.metrics import classification_report, accuracy_score\n",
    "\n",
    "# Initialize the SVM model\n",
    "pv32_svm_classifier = SVC(kernel='linear', random_state=55003)\n",
    "\n",
    "# Set up K-Fold Cross-Validation\n",
    "kfold = KFold(n_splits=5, shuffle=True, random_state=55003)\n",
    "\n",
    "# Perform Cross-Validation\n",
    "cv_accuracy = cross_val_score(pv32_svm_classifier, pv32_X_train, pv32_y_train, cv=kfold, scoring='accuracy')\n",
    "\n",
    "# Output Cross-Validation results\n",
    "print(\"K-Fold Cross-Validation Accuracy Scores: \", cv_accuracy)\n",
    "print(\"Mean Accuracy: \", cv_accuracy.mean())\n",
    "print(\"Standard Deviation of Accuracy: \", cv_accuracy.std())\n",
    "\n",
    "# Train the model on the entire training set (if needed for later use)\n",
    "pv32_svm_classifier.fit(pv32_X_train, pv32_y_train)\n",
    "\n",
    "# Evaluate the model on the test sets\n",
    "pv32_y_pred_svm = pv32_svm_classifier.predict(pv32_X_test)\n",
    "pv32_accuracy_svm = accuracy_score(pv32_y_test, pv32_y_pred_svm)\n",
    "print(f\"SVM Test Set Accuracy: {pv32_accuracy_svm}\")\n",
    "print(classification_report(pv32_y_test, pv32_y_pred_svm))"
   ]
  },
  {
   "cell_type": "markdown",
   "metadata": {
    "id": "7Y8SiavRIRAh"
   },
   "source": [
    "### **Support Vector Machine (SVM) Model Performance with K-Fold Cross-Validation**\r\n",
    "\r\n",
    "#### **K-Fold Cross-Validation Results:**\r\n",
    "\r\n",
    "1. **Accuracy Scores:**  \r\n",
    "   - `[0.3543, 0.3557, 0.3486, 0.3586, 0.3514]`  \r\n",
    "   - The accuracy scores across 5 folds show consistent performance, with values between **34.86%** and **35.86%**.\r\n",
    "\r\n",
    "2. **Mean Accuracy:**  \r\n",
    "   - **35.37%**  \r\n",
    "   - The mean accuracy across all folds indicates that the model consistently achieves around 35% accuracy during cross-validation.\r\n",
    "\r\n",
    "3. **Standard Deviation of Accuracy:**  \r\n",
    "   - **0.0035**  \r\n",
    "   - The very low standard deviation highlights stable performance across all folds, with minimal variance.\r\n",
    "\r\n",
    "---\r\n",
    "\r\n",
    "#### **Test Set Performance:**\r\n",
    "\r\n",
    "1. **Test Set Accuracy:**  \r\n",
    "   - **32.51%**  \r\n",
    "   - The test set accuracy is slightly lower than the cross-validation mean accuracy, indicating that the model's generalization to unseen data is limited.\r\n",
    "\r\n",
    "2. **Class-Wise Performance:**\r\n",
    "\r\n",
    "   - **Class 0.0:**  \r\n",
    "     - **Precision:** 0.00  \r\n",
    "     - **Recall:** 0.00  \r\n",
    "     - **F1-score:** 0.00  \r\n",
    "     - **Support:** 539 instances  \r\n",
    "     - **Observation:** The model fails to classify any instances of Class 0.0 correctly, indicating complete misclassification of this class.\r\n",
    "\r\n",
    "   - **Class 1.0:**  \r\n",
    "     - **Precision:** 0.00  \r\n",
    "     - **Recall:** 0.00  \r\n",
    "     - **F1-score:** 0.00  \r\n",
    "     - **Support:** 474 instances  \r\n",
    "     - **Observation:** Similar to Class 0.0, the model completely fails to classify instances of Class 1.0.\r\n",
    "\r\n",
    "   - **Class 2.0:**  \r\n",
    "     - **Precision:** 0.33  \r\n",
    "     - **Recall:** 1.00  \r\n",
    "     - **F1-score:** 0.49  \r\n",
    "     - **Support:** 488 instances  \r\n",
    "     - **Observation:** The model correctly classifies all instances of Class 2.0, achieving perfect recall, but low precision due to frequent misclass focus on Class 2.0 at the expense of the other classes.\r\n",
    "\r\n",
    "---\r\n",
    "\r\n",
    "#### **Key Insights:**\r\n",
    "\r\n",
    "1. **Class 2.0 Dominance:**\r\n",
    "   - The model focuses almost exclusively on Class 2.0, correctly identifying all instances of this class but misclassifying Classes 0.0 and 1.0 as Class 2.0.\r\n",
    "\r\n",
    "2. **Complete Failure for Classes 0.0 and 1.0:**\r\n",
    "   - The model completely fails to classify any instances of Classes 0.0 and 1.0, resulting in zero precision, recall, and F1-scores for these classes.\r\n",
    "\r\n",
    "3. **Imbalance in Performance:**\r\n",
    "   - The significant bias towards Class 2.0 indicates that the model struUse more folds in cross-validation to further evaluate model stability and performance robustness.\r\n",
    "\r\n"
   ]
  },
  {
   "cell_type": "markdown",
   "metadata": {
    "id": "42aV1eilIXUI"
   },
   "source": [
    "### **K-Fold Cross Validation for Stochastic Gradient Descent (SGD)**"
   ]
  },
  {
   "cell_type": "code",
   "execution_count": 118,
   "metadata": {
    "colab": {
     "base_uri": "https://localhost:8080/"
    },
    "id": "t9r6uTvFIdaI",
    "outputId": "01cd4c81-3231-4717-ebae-4a15c97028db"
   },
   "outputs": [
    {
     "name": "stdout",
     "output_type": "stream",
     "text": [
      "K-Fold Cross-Validation Accuracy Scores:  [0.32428571 0.36       0.35857143 0.35571429 0.35285714]\n",
      "Mean Accuracy:  0.35028571428571426\n",
      "Standard Deviation of Accuracy:  0.013229527888903114\n",
      "SGD Test Set Accuracy: 0.3157894736842105\n",
      "              precision    recall  f1-score   support\n",
      "\n",
      "         0.0       0.00      0.00      0.00       539\n",
      "         1.0       0.32      1.00      0.48       474\n",
      "         2.0       0.00      0.00      0.00       488\n",
      "\n",
      "    accuracy                           0.32      1501\n",
      "   macro avg       0.11      0.33      0.16      1501\n",
      "weighted avg       0.10      0.32      0.15      1501\n",
      "\n"
     ]
    }
   ],
   "source": [
    "from sklearn.linear_model import SGDClassifier\n",
    "from sklearn.metrics import accuracy_score, classification_report\n",
    "from sklearn.model_selection import KFold, cross_val_score\n",
    "\n",
    "# 1. Initialize the SGD Classifier\n",
    "pv32_sgd_classifier = SGDClassifier(loss='log_loss', random_state=5045, max_iter=1000, tol=1e-3)\n",
    "# Changed 'log' to 'log_loss' for logistic regression\n",
    "\n",
    "# 2. Set up K-Fold Cross-Validation\n",
    "kfold = KFold(n_splits=5, shuffle=True, random_state=55003)\n",
    "\n",
    "# 3. Perform Cross-Validation\n",
    "cv_accuracy = cross_val_score(pv32_sgd_classifier, pv32_X_train, pv32_y_train, cv=kfold, scoring='accuracy')\n",
    "\n",
    "# 4. Output Cross-Validation Results\n",
    "print(\"K-Fold Cross-Validation Accuracy Scores: \", cv_accuracy)\n",
    "print(\"Mean Accuracy: \", cv_accuracy.mean())\n",
    "print(\"Standard Deviation of Accuracy: \", cv_accuracy.std())\n",
    "\n",
    "# 5. Train the SGD Classifier on the entire training set\n",
    "pv32_sgd_classifier.fit(pv32_X_train, pv32_y_train)\n",
    "\n",
    "# 6. Make predictions on the test set\n",
    "pv32_y_pred_sgd = pv32_sgd_classifier.predict(pv32_X_test)\n",
    "\n",
    "# 7. Evaluate the Model\n",
    "pv32_accuracy_sgd = accuracy_score(pv32_y_test, pv32_y_pred_sgd)\n",
    "print(f\"SGD Test Set Accuracy: {pv32_accuracy_sgd}\")\n",
    "print(classification_report(pv32_y_test, pv32_y_pred_sgd))\n"
   ]
  },
  {
   "cell_type": "markdown",
   "metadata": {
    "id": "N9uQN1aQIw0Z"
   },
   "source": [
    "### **Stochastic Gradient Descent (SGD) Model Performance**\r\n",
    "\r\n",
    "#### **K-Fold Cross-Validation Results:**\r\n",
    "- **Accuracy Scores:** `[0.3243, 0.3600, 0.3586, 0.3557, 0.3529]`\r\n",
    "- **Mean Accuracy:** `35.03%`\r\n",
    "- **Standard Deviation:** `0.0132`\r\n",
    "\r\n",
    "#### **Test Set Performance:**\r\n",
    "- **Accuracy:** `31.58%`\r\n",
    "\r\n",
    "#### **Class-Wise Performance:**\r\n",
    "- **Class 0.0:** Precision: `0.00`, Recall: `0.00`, F1-Score: `0.00`, Support: `539`\r\n",
    "- **Class 1.0:** Precision: `0.32`, Recall: `1.00`, F1-Score: `0.48`, Support: `474`\r\n",
    "- **Class 2.0:** Precision: `0.00`, Recall: `0.00`, F1-Score: `0.00`, Support: `488`\r\n",
    "\r\n",
    "#### **Overall Observations:**\r\n",
    "- The model heavily favors Class 1.0 (perfect recall) while completely failing for Classes 0.0 and 2.0.\r\n",
    "- Macro Average Precision: `0.11`, Recall: `0.33`, F1-Score: `0.16`.\r\n",
    "- Weighted Average Precision: `0.10`, Recall: `0.32`, stances of Class 1."
   ]
  },
  {
   "cell_type": "markdown",
   "metadata": {
    "id": "eB0aoX9GI1hV"
   },
   "source": [
    "### **Comparison of LR vs SVM**"
   ]
  },
  {
   "cell_type": "code",
   "execution_count": 123,
   "metadata": {
    "colab": {
     "base_uri": "https://localhost:8080/"
    },
    "id": "VC5dGaf5I4K6",
    "outputId": "48619854-b804-4991-d4cb-a586b3d3c0c1"
   },
   "outputs": [
    {
     "name": "stdout",
     "output_type": "stream",
     "text": [
      "Logistic Regression Accuracy: 0.32378414390406396\n",
      "SVM Accuracy: 0.3251165889407062\n",
      "Support Vector Machine model performs better.\n"
     ]
    }
   ],
   "source": [
    "\n",
    "print(f\"Logistic Regression Accuracy: {pv32_accuracy_logreg}\")\n",
    "print(f\"SVM Accuracy: {pv32_accuracy_svm}\")\n",
    "\n",
    "if pv32_accuracy_logreg > pv32_accuracy_svm:\n",
    "    print(\"Logistic Regression model performs better.\")\n",
    "elif pv32_accuracy_svm > pv32_accuracy_logreg:\n",
    "    print(\"Support Vector Machine model performs better.\")\n",
    "else:\n",
    "    print(\"Both models perform equally.\")"
   ]
  },
  {
   "cell_type": "markdown",
   "metadata": {
    "id": "0cD5hXQ3JFA9"
   },
   "source": [
    "### **Comparison of LR vs SGD**"
   ]
  },
  {
   "cell_type": "code",
   "execution_count": 126,
   "metadata": {
    "colab": {
     "base_uri": "https://localhost:8080/"
    },
    "id": "9W4HwpyFJGRq",
    "outputId": "2728fbd5-0a4d-4ccf-eba4-b5b5d5e42d2f"
   },
   "outputs": [
    {
     "name": "stdout",
     "output_type": "stream",
     "text": [
      "Logistic Regression Accuracy: 0.32378414390406396\n",
      "SGD Accuracy: 0.3157894736842105\n",
      "Logistic Regression model performs better.\n"
     ]
    }
   ],
   "source": [
    "print(f\"Logistic Regression Accuracy: {pv32_accuracy_logreg}\")\n",
    "print(f\"SGD Accuracy: {pv32_accuracy_sgd}\")\n",
    "\n",
    "if pv32_accuracy_logreg > pv32_accuracy_sgd:\n",
    "    print(\"Logistic Regression model performs better.\")\n",
    "elif pv32_accuracy_sgd > pv32_accuracy_logreg:\n",
    "    print(\"Stochastic Gradient Descent model performs better.\")\n",
    "else:\n",
    "    print(\"Both models perform equally.\")"
   ]
  },
  {
   "cell_type": "markdown",
   "metadata": {
    "id": "45tZF_X2JTiK"
   },
   "source": [
    "### **Comparison of DT vs KNN**"
   ]
  },
  {
   "cell_type": "code",
   "execution_count": 129,
   "metadata": {
    "colab": {
     "base_uri": "https://localhost:8080/"
    },
    "id": "z0PgghxAJWMl",
    "outputId": "58a64588-9e03-42d3-cf52-e5214d2c4501"
   },
   "outputs": [
    {
     "name": "stdout",
     "output_type": "stream",
     "text": [
      "Decision Tree Accuracy: 0.32045303131245834\n",
      "KNN Accuracy: 0.33111259160559625\n",
      "K Nearest Neighbour model performs better.\n"
     ]
    }
   ],
   "source": [
    "\n",
    "print(f\"Decision Tree Accuracy: {pv32_accuracy_dt}\")\n",
    "print(f\"KNN Accuracy: {pv32_accuracy_knn}\")\n",
    "\n",
    "if pv32_accuracy_dt > pv32_accuracy_knn:\n",
    "    print(\"Decision Tree model performs better.\")\n",
    "elif pv32_accuracy_knn > pv32_accuracy_dt:\n",
    "    print(\"K Nearest Neighbour model performs better.\")\n",
    "else:\n",
    "    print(\"Both models perform equally.\")\n"
   ]
  },
  {
   "cell_type": "markdown",
   "metadata": {
    "id": "FbJD0EhfJfeV"
   },
   "source": [
    "### **Comparison of LR vs DT**"
   ]
  },
  {
   "cell_type": "code",
   "execution_count": 132,
   "metadata": {
    "colab": {
     "base_uri": "https://localhost:8080/"
    },
    "id": "3HCOoOs3JfJx",
    "outputId": "328ba364-fa39-4a8d-bc56-58273467565a"
   },
   "outputs": [
    {
     "name": "stdout",
     "output_type": "stream",
     "text": [
      "Logistic Regression Accuracy: 0.32378414390406396\n",
      "Decision Tree Accuracy: 0.32045303131245834\n",
      "Logistic Regression model performs better.\n"
     ]
    }
   ],
   "source": [
    "\n",
    "print(f\"Logistic Regression Accuracy: {pv32_accuracy_logreg}\")\n",
    "print(f\"Decision Tree Accuracy: {pv32_accuracy_dt}\")\n",
    "\n",
    "if pv32_accuracy_logreg > pv32_accuracy_dt:\n",
    "    print(\"Logistic Regression model performs better.\")\n",
    "elif pv32_accuracy_dt > pv32_accuracy_logreg:\n",
    "    print(\"Decision Tree model performs better.\")\n",
    "else:\n",
    "    print(\"Both models perform equally.\")"
   ]
  },
  {
   "cell_type": "markdown",
   "metadata": {
    "id": "m01INBXBJzHH"
   },
   "source": [
    "### **Comparison of DT vs NB**"
   ]
  },
  {
   "cell_type": "code",
   "execution_count": 135,
   "metadata": {
    "colab": {
     "base_uri": "https://localhost:8080/"
    },
    "id": "OoJ_C9s2J1_a",
    "outputId": "360350ba-c6d7-46e6-aeda-5096e1b962ef"
   },
   "outputs": [
    {
     "name": "stdout",
     "output_type": "stream",
     "text": [
      "Decision Tree Accuracy: 0.32045303131245834\n",
      "Naive Bayes Accuracy: 0.31712191872085277\n",
      "Decision Tree model performs better.\n"
     ]
    }
   ],
   "source": [
    "\n",
    "print(f\"Decision Tree Accuracy: {pv32_accuracy_dt}\")\n",
    "print(f\"Naive Bayes Accuracy: {pv32_accuracy_nb}\")\n",
    "\n",
    "if pv32_accuracy_dt > pv32_accuracy_nb:\n",
    "    print(\"Decision Tree model performs better.\")\n",
    "elif pv32_accuracy_nb > pv32_accuracy_dt:\n",
    "    print(\"Naive Bayes model performs better.\")\n",
    "else:\n",
    "    print(\"Both models perform equally.\")\n"
   ]
  },
  {
   "cell_type": "markdown",
   "metadata": {
    "id": "0A9pxI_MJ7rI"
   },
   "source": [
    "## **Random Forest**"
   ]
  },
  {
   "cell_type": "code",
   "execution_count": 138,
   "metadata": {
    "colab": {
     "base_uri": "https://localhost:8080/"
    },
    "id": "O2kJDzhGJ-EI",
    "outputId": "3244d4f9-430c-4e74-9c3d-15162be7f666"
   },
   "outputs": [
    {
     "name": "stdout",
     "output_type": "stream",
     "text": [
      "Random Forest Accuracy: 0.3284477015323118\n",
      "              precision    recall  f1-score   support\n",
      "\n",
      "         0.0       0.39      0.34      0.36       539\n",
      "         1.0       0.31      0.30      0.31       474\n",
      "         2.0       0.30      0.34      0.32       488\n",
      "\n",
      "    accuracy                           0.33      1501\n",
      "   macro avg       0.33      0.33      0.33      1501\n",
      "weighted avg       0.33      0.33      0.33      1501\n",
      "\n"
     ]
    }
   ],
   "source": [
    "\n",
    "# Initialize the Random Forest Classifier\n",
    "pv32_rf_classifier = RandomForestClassifier(random_state=5024)\n",
    "\n",
    "# Train the model\n",
    "pv32_rf_classifier.fit(pv32_X_train, pv32_y_train)\n",
    "\n",
    "# Make predictions on the test set\n",
    "pv32_y_pred_rf = pv32_rf_classifier.predict(pv32_X_test)\n",
    "\n",
    "# Evaluate the model\n",
    "pv32_accuracy_rf = accuracy_score(pv32_y_test, pv32_y_pred_rf)\n",
    "print(f\"Random Forest Accuracy: {pv32_accuracy_rf}\")\n",
    "print(classification_report(pv32_y_test, pv32_y_pred_rf))\n"
   ]
  },
  {
   "cell_type": "code",
   "execution_count": 139,
   "metadata": {
    "colab": {
     "base_uri": "https://localhost:8080/",
     "height": 564
    },
    "id": "inzzlzPHKCLl",
    "outputId": "151d5541-3e6e-4cdd-8501-2408065b1e3b"
   },
   "outputs": [
    {
     "data": {
      "image/png": "[encoded data removed]",
      "text/plain": [
       "<Figure size 800x600 with 2 Axes>"
      ]
     },
     "metadata": {},
     "output_type": "display_data"
    }
   ],
   "source": [
    "\n",
    "# Confusion Matrix for Random Forest\n",
    "pv32_cm_rf = confusion_matrix(pv32_y_test, pv32_y_pred_rf)\n",
    "\n",
    "# Plot the confusion matrix for Random Forest\n",
    "plt.figure(figsize=(8, 6))\n",
    "sns.heatmap(pv32_cm_rf, annot=True, fmt='d', cmap='Oranges',  # Different colormap\n",
    "            xticklabels=pv32_rf_classifier.classes_, yticklabels=pv32_rf_classifier.classes_)\n",
    "plt.xlabel('Predicted')\n",
    "plt.ylabel('Actual')\n",
    "plt.title('Confusion Matrix for Random Forest')\n",
    "plt.show()\n"
   ]
  },
  {
   "cell_type": "markdown",
   "metadata": {
    "id": "3D8675UzKXzo"
   },
   "source": [
    "### **Confusion Matrix Observations for Random Forest**\r\n",
    "\r\n",
    "#### **Class-Wise Observations:**\r\n",
    "\r\n",
    "1. **Class 0.0:**\r\n",
    "   - **Correctly Predicted (True Positives):** 184\r\n",
    "   - **Misclassified as Class 1.0:** 165\r\n",
    "   - **Misclassified as Class 2.0:** 190\r\n",
    "   - **Observation:** Class 0.0 has a high misclassification rate, with significant confusion between Classes 1.0 and 2.0.\r\n",
    "\r\n",
    "2. **Class 1.0:**\r\n",
    "   - **Correctly Predicted (True Positives):** 144\r\n",
    "   - **Misclassified as Class 0.0:** 130\r\n",
    "   - **Misclassified as Class 2.0:** 200\r\n",
    "   - **Observation:** Class 1.0 shows a balanced misclassification between Classes 0.0 and 2.0, with moderate true positive performance.\r\n",
    "\r\n",
    "3. **Class 2.0:**\r\n",
    "   - **Correctly Predicted (True Positives):** 165\r\n",
    "   - **Misclassified as Class 0.0:** 163\r\n",
    "   - **Misclassified as Class 1.0:** 160\r\n",
    "   - **Observation:** Class 2.0 has the highest misclassification rate, with near-equal confusion between Classes 0.0 and 1.0.\r\n",
    "\r\n",
    "---\r\n",
    "\r\n",
    "#### **Overall Observations:**\r\n",
    "\r\n",
    "- **Balanced Errors:** The misclassifications are fairly balanced across all three classes, with no class being disproportionately favored or neglected.\r\n",
    "- **Significant Overlap:** There is a high degree of confusion between all classes, indicating overlapping feature spaces or insufficient separability.\r\n",
    "\r\n",
    "\n",
    "\n",
    "**Key Changes:**\n",
    "\n",
    "-   **Accuracy:** The diagonal values (True Positives) are read directly from the image.\n",
    "-   **Misclassifications:** The off-diagonal values (False Negatives) are read directly from the image.\n",
    "-   **Cluster-Specific Analysis:** The analysis now accurately reflects the values from the confusion matrix.\n",
    "-   **Recommendations:** Suggestions for improvement are added, including exploring alternative algorithms, adjusting hyperparameters, and feature engineering.\n",
    "\n",
    "This edited text provides a more accurate and detailed analysis of the confusion matrix for the Random Forest model, incorporating the specific values from the image and suggesting potential improvements."
   ]
  },
  {
   "cell_type": "markdown",
   "metadata": {
    "id": "IoGYu_ZRKcQ7"
   },
   "source": [
    "\n",
    "### **Extreme Gradient Boosting**"
   ]
  },
  {
   "cell_type": "code",
   "execution_count": 142,
   "metadata": {
    "colab": {
     "base_uri": "https://localhost:8080/"
    },
    "id": "rdPLaG-XKgcx",
    "outputId": "3f1194aa-1e15-4062-f818-b7a75d3a3609"
   },
   "outputs": [
    {
     "name": "stdout",
     "output_type": "stream",
     "text": [
      "The mean accuracy on the given test data and labels from Extreme Gradient Boosting is 0.3391072618254497\n"
     ]
    }
   ],
   "source": [
    "pv32_clf = GradientBoostingClassifier(n_estimators=100, learning_rate=1.0,\n",
    "    max_depth=1, random_state=55003).fit(pv32_X_train, pv32_y_train)\n",
    "print(\"The mean accuracy on the given test data and labels from Extreme Gradient Boosting is\",pv32_clf.score(pv32_X_test, pv32_y_test))\n"
   ]
  },
  {
   "cell_type": "markdown",
   "metadata": {
    "id": "mU6bHYtUKzmF"
   },
   "source": [
    "**Observation:**\n",
    "\n",
    "The mean accuracy of 0.3391 (rounded to four decimal places) suggests that the XGBoost model, on average, correctly classifies approximately 33.91% of the instances in the given test data. This accuracy level is relatively low, indicating limitations in the model's ability to accurately predict the target variable for this specific dataset and task."
   ]
  },
  {
   "cell_type": "markdown",
   "metadata": {
    "id": "yKzvKEvnK46a"
   },
   "source": [
    "\n",
    "### **Comparison of RF vs DT**"
   ]
  },
  {
   "cell_type": "code",
   "execution_count": 145,
   "metadata": {
    "colab": {
     "base_uri": "https://localhost:8080/"
    },
    "id": "QafjMAUYK-a_",
    "outputId": "a8b2f26a-b31a-4985-8b91-8e2d798fef61"
   },
   "outputs": [
    {
     "name": "stdout",
     "output_type": "stream",
     "text": [
      "\n",
      "Decision Tree Accuracy: 0.32045303131245834\n",
      "Random Forest Accuracy: 0.3284477015323118\n",
      "Random Forest performs better than Decision Tree.\n"
     ]
    }
   ],
   "source": [
    "# Compare Random Forest and Decision Tree\n",
    "\n",
    "print(f\"\\nDecision Tree Accuracy: {pv32_accuracy_dt}\")\n",
    "print(f\"Random Forest Accuracy: {pv32_accuracy_rf}\")\n",
    "\n",
    "if pv32_accuracy_rf > pv32_accuracy_dt:\n",
    "    print(\"Random Forest performs better than Decision Tree.\")\n",
    "elif pv32_accuracy_dt > pv32_accuracy_rf:\n",
    "    print(\"Decision Tree performs better than Random Forest.\")\n",
    "else:\n",
    "    print(\"Both models perform equally.\")"
   ]
  },
  {
   "cell_type": "markdown",
   "metadata": {
    "id": "Mkxc5QzILE4F"
   },
   "source": [
    "# Model Run Statistics"
   ]
  },
  {
   "cell_type": "markdown",
   "metadata": {
    "id": "-1TGyU1kLJBX"
   },
   "source": [
    "## Time Taken"
   ]
  },
  {
   "cell_type": "code",
   "execution_count": 163,
   "metadata": {
    "colab": {
     "base_uri": "https://localhost:8080/"
    },
    "id": "S503qlrdLGJL",
    "outputId": "294e06d4-021b-4da8-a9e6-e32da6ce9a75"
   },
   "outputs": [
    {
     "name": "stdout",
     "output_type": "stream",
     "text": [
      "Collecting xgboost\n",
      "  Downloading xgboost-2.1.3-py3-none-win_amd64.whl.metadata (2.1 kB)\n",
      "Requirement already satisfied: numpy in c:\\users\\hp\\new folder\\lib\\site-packages (from xgboost) (1.26.4)\n",
      "Requirement already satisfied: scipy in c:\\users\\hp\\new folder\\lib\\site-packages (from xgboost) (1.13.1)\n",
      "Downloading xgboost-2.1.3-py3-none-win_amd64.whl (124.9 MB)\n",
      "   ---------------------------------------- 0.0/124.9 MB ? eta -:--:--\n",
      "   ---------------------------------------- 0.0/124.9 MB ? eta -:--:--\n",
      "   ---------------------------------------- 0.0/124.9 MB ? eta -:--:--\n",
      "   ---------------------------------------- 0.0/124.9 MB ? eta -:--:--\n",
      "   ---------------------------------------- 0.0/124.9 MB 281.8 kB/s eta 0:07:24\n",
      "   ---------------------------------------- 0.3/124.9 MB 1.9 MB/s eta 0:01:06\n",
      "   ---------------------------------------- 1.1/124.9 MB 4.8 MB/s eta 0:00:26\n",
      "   ---------------------------------------- 1.3/124.9 MB 4.8 MB/s eta 0:00:27\n",
      "    --------------------------------------- 2.1/124.9 MB 6.8 MB/s eta 0:00:19\n",
      "    --------------------------------------- 2.5/124.9 MB 6.9 MB/s eta 0:00:18\n",
      "    --------------------------------------- 2.8/124.9 MB 6.8 MB/s eta 0:00:19\n",
      "    --------------------------------------- 3.0/124.9 MB 6.8 MB/s eta 0:00:18\n",
      "   - -------------------------------------- 3.1/124.9 MB 6.3 MB/s eta 0:00:20\n",
      "   - -------------------------------------- 3.2/124.9 MB 5.9 MB/s eta 0:00:21\n",
      "   - -------------------------------------- 3.3/124.9 MB 5.6 MB/s eta 0:00:22\n",
      "   - -------------------------------------- 3.4/124.9 MB 5.3 MB/s eta 0:00:23\n",
      "   - -------------------------------------- 3.5/124.9 MB 5.1 MB/s eta 0:00:24\n",
      "   - -------------------------------------- 3.6/124.9 MB 4.9 MB/s eta 0:00:25\n",
      "   - -------------------------------------- 3.8/124.9 MB 4.9 MB/s eta 0:00:25\n",
      "   - -------------------------------------- 3.9/124.9 MB 4.8 MB/s eta 0:00:26\n",
      "   - -------------------------------------- 4.1/124.9 MB 4.6 MB/s eta 0:00:27\n",
      "   - -------------------------------------- 4.3/124.9 MB 4.6 MB/s eta 0:00:27\n",
      "   - -------------------------------------- 4.5/124.9 MB 4.6 MB/s eta 0:00:27\n",
      "   - -------------------------------------- 4.7/124.9 MB 4.7 MB/s eta 0:00:26\n",
      "   - -------------------------------------- 5.0/124.9 MB 4.6 MB/s eta 0:00:26\n",
      "   - -------------------------------------- 5.3/124.9 MB 4.7 MB/s eta 0:00:26\n",
      "   - -------------------------------------- 5.6/124.9 MB 4.8 MB/s eta 0:00:26\n",
      "   - -------------------------------------- 5.9/124.9 MB 4.8 MB/s eta 0:00:25\n",
      "   - -------------------------------------- 6.2/124.9 MB 4.9 MB/s eta 0:00:25\n",
      "   -- ------------------------------------- 6.5/124.9 MB 4.9 MB/s eta 0:00:25\n",
      "   -- ------------------------------------- 6.9/124.9 MB 5.0 MB/s eta 0:00:24\n",
      "   -- ------------------------------------- 7.2/124.9 MB 5.1 MB/s eta 0:00:23\n",
      "   -- ------------------------------------- 7.6/124.9 MB 5.2 MB/s eta 0:00:23\n",
      "   -- ------------------------------------- 8.0/124.9 MB 5.3 MB/s eta 0:00:22\n",
      "   -- ------------------------------------- 8.5/124.9 MB 5.5 MB/s eta 0:00:22\n",
      "   -- ------------------------------------- 8.9/124.9 MB 5.6 MB/s eta 0:00:21\n",
      "   -- ------------------------------------- 9.3/124.9 MB 5.7 MB/s eta 0:00:21\n",
      "   --- ------------------------------------ 9.6/124.9 MB 5.7 MB/s eta 0:00:21\n",
      "   --- ------------------------------------ 9.9/124.9 MB 5.7 MB/s eta 0:00:21\n",
      "   --- ------------------------------------ 10.1/124.9 MB 5.7 MB/s eta 0:00:21\n",
      "   --- ------------------------------------ 10.2/124.9 MB 5.6 MB/s eta 0:00:21\n",
      "   --- ------------------------------------ 10.5/124.9 MB 6.0 MB/s eta 0:00:20\n",
      "   --- ------------------------------------ 10.6/124.9 MB 5.8 MB/s eta 0:00:20\n",
      "   --- ------------------------------------ 10.8/124.9 MB 5.8 MB/s eta 0:00:20\n",
      "   --- ------------------------------------ 10.9/124.9 MB 5.6 MB/s eta 0:00:21\n",
      "   --- ------------------------------------ 11.1/124.9 MB 5.5 MB/s eta 0:00:21\n",
      "   --- ------------------------------------ 11.3/124.9 MB 5.4 MB/s eta 0:00:21\n",
      "   --- ------------------------------------ 11.6/124.9 MB 5.5 MB/s eta 0:00:21\n",
      "   --- ------------------------------------ 11.9/124.9 MB 5.3 MB/s eta 0:00:22\n",
      "   --- ------------------------------------ 12.2/124.9 MB 5.2 MB/s eta 0:00:22\n",
      "   --- ------------------------------------ 12.5/124.9 MB 5.2 MB/s eta 0:00:22\n",
      "   ---- ----------------------------------- 12.8/124.9 MB 5.2 MB/s eta 0:00:22\n",
      "   ---- ----------------------------------- 13.1/124.9 MB 5.2 MB/s eta 0:00:22\n",
      "   ---- ----------------------------------- 13.4/124.9 MB 5.4 MB/s eta 0:00:21\n",
      "   ---- ----------------------------------- 13.8/124.9 MB 5.7 MB/s eta 0:00:20\n",
      "   ---- ----------------------------------- 14.2/124.9 MB 6.1 MB/s eta 0:00:19\n",
      "   ---- ----------------------------------- 14.4/124.9 MB 6.2 MB/s eta 0:00:18\n",
      "   ---- ----------------------------------- 14.9/124.9 MB 6.4 MB/s eta 0:00:18\n",
      "   ---- ----------------------------------- 15.3/124.9 MB 6.4 MB/s eta 0:00:18\n",
      "   ----- ---------------------------------- 15.7/124.9 MB 6.5 MB/s eta 0:00:17\n",
      "   ----- ---------------------------------- 16.1/124.9 MB 6.5 MB/s eta 0:00:17\n",
      "   ----- ---------------------------------- 16.4/124.9 MB 6.6 MB/s eta 0:00:17\n",
      "   ----- ---------------------------------- 16.7/124.9 MB 6.6 MB/s eta 0:00:17\n",
      "   ----- ---------------------------------- 16.9/124.9 MB 6.5 MB/s eta 0:00:17\n",
      "   ----- ---------------------------------- 17.1/124.9 MB 6.4 MB/s eta 0:00:17\n",
      "   ----- ---------------------------------- 17.3/124.9 MB 6.4 MB/s eta 0:00:17\n",
      "   ----- ---------------------------------- 17.4/124.9 MB 6.2 MB/s eta 0:00:18\n",
      "   ----- ---------------------------------- 17.6/124.9 MB 6.1 MB/s eta 0:00:18\n",
      "   ----- ---------------------------------- 17.7/124.9 MB 6.0 MB/s eta 0:00:19\n",
      "   ----- ---------------------------------- 17.9/124.9 MB 6.0 MB/s eta 0:00:18\n",
      "   ----- ---------------------------------- 18.1/124.9 MB 5.8 MB/s eta 0:00:19\n",
      "   ----- ---------------------------------- 18.3/124.9 MB 5.7 MB/s eta 0:00:19\n",
      "   ----- ---------------------------------- 18.6/124.9 MB 5.6 MB/s eta 0:00:19\n",
      "   ------ --------------------------------- 18.8/124.9 MB 5.6 MB/s eta 0:00:19\n",
      "   ------ --------------------------------- 19.1/124.9 MB 5.5 MB/s eta 0:00:20\n",
      "   ------ --------------------------------- 19.4/124.9 MB 5.5 MB/s eta 0:00:20\n",
      "   ------ --------------------------------- 19.7/124.9 MB 5.5 MB/s eta 0:00:20\n",
      "   ------ --------------------------------- 20.0/124.9 MB 5.5 MB/s eta 0:00:20\n",
      "   ------ --------------------------------- 20.3/124.9 MB 5.5 MB/s eta 0:00:20\n",
      "   ------ --------------------------------- 20.5/124.9 MB 5.5 MB/s eta 0:00:19\n",
      "   ------ --------------------------------- 20.8/124.9 MB 5.6 MB/s eta 0:00:19\n",
      "   ------ --------------------------------- 21.2/124.9 MB 5.8 MB/s eta 0:00:18\n",
      "   ------ --------------------------------- 21.6/124.9 MB 6.0 MB/s eta 0:00:18\n",
      "   ------- -------------------------------- 22.0/124.9 MB 6.0 MB/s eta 0:00:18\n",
      "   ------- -------------------------------- 22.4/124.9 MB 6.1 MB/s eta 0:00:17\n",
      "   ------- -------------------------------- 22.8/124.9 MB 6.2 MB/s eta 0:00:17\n",
      "   ------- -------------------------------- 23.1/124.9 MB 6.1 MB/s eta 0:00:17\n",
      "   ------- -------------------------------- 23.5/124.9 MB 6.2 MB/s eta 0:00:17\n",
      "   ------- -------------------------------- 23.8/124.9 MB 6.2 MB/s eta 0:00:17\n",
      "   ------- -------------------------------- 24.0/124.9 MB 6.1 MB/s eta 0:00:17\n",
      "   ------- -------------------------------- 24.3/124.9 MB 6.1 MB/s eta 0:00:17\n",
      "   ------- -------------------------------- 24.5/124.9 MB 6.0 MB/s eta 0:00:17\n",
      "   ------- -------------------------------- 24.7/124.9 MB 5.9 MB/s eta 0:00:17\n",
      "   ------- -------------------------------- 24.9/124.9 MB 5.9 MB/s eta 0:00:17\n",
      "   -------- ------------------------------- 25.2/124.9 MB 5.8 MB/s eta 0:00:18\n",
      "   -------- ------------------------------- 25.4/124.9 MB 5.7 MB/s eta 0:00:18\n",
      "   -------- ------------------------------- 25.7/124.9 MB 5.7 MB/s eta 0:00:18\n",
      "   -------- ------------------------------- 26.0/124.9 MB 5.7 MB/s eta 0:00:18\n",
      "   -------- ------------------------------- 26.3/124.9 MB 5.6 MB/s eta 0:00:18\n",
      "   -------- ------------------------------- 26.6/124.9 MB 5.6 MB/s eta 0:00:18\n",
      "   -------- ------------------------------- 27.0/124.9 MB 5.7 MB/s eta 0:00:18\n",
      "   -------- ------------------------------- 27.4/124.9 MB 5.8 MB/s eta 0:00:17\n",
      "   -------- ------------------------------- 27.7/124.9 MB 6.1 MB/s eta 0:00:16\n",
      "   -------- ------------------------------- 28.0/124.9 MB 6.2 MB/s eta 0:00:16\n",
      "   --------- ------------------------------ 28.3/124.9 MB 6.4 MB/s eta 0:00:16\n",
      "   --------- ------------------------------ 28.5/124.9 MB 6.4 MB/s eta 0:00:16\n",
      "   --------- ------------------------------ 28.7/124.9 MB 6.3 MB/s eta 0:00:16\n",
      "   --------- ------------------------------ 29.0/124.9 MB 6.4 MB/s eta 0:00:16\n",
      "   --------- ------------------------------ 29.2/124.9 MB 6.4 MB/s eta 0:00:16\n",
      "   --------- ------------------------------ 29.6/124.9 MB 6.3 MB/s eta 0:00:16\n",
      "   --------- ------------------------------ 29.8/124.9 MB 6.3 MB/s eta 0:00:16\n",
      "   --------- ------------------------------ 30.1/124.9 MB 6.2 MB/s eta 0:00:16\n",
      "   --------- ------------------------------ 30.4/124.9 MB 6.2 MB/s eta 0:00:16\n",
      "   --------- ------------------------------ 30.7/124.9 MB 6.2 MB/s eta 0:00:16\n",
      "   --------- ------------------------------ 31.0/124.9 MB 6.3 MB/s eta 0:00:15\n",
      "   ---------- ----------------------------- 31.3/124.9 MB 6.2 MB/s eta 0:00:16\n",
      "   ---------- ----------------------------- 31.7/124.9 MB 6.2 MB/s eta 0:00:15\n",
      "   ---------- ----------------------------- 32.1/124.9 MB 6.2 MB/s eta 0:00:16\n",
      "   ---------- ----------------------------- 32.5/124.9 MB 6.2 MB/s eta 0:00:15\n",
      "   ---------- ----------------------------- 32.8/124.9 MB 6.1 MB/s eta 0:00:16\n",
      "   ---------- ----------------------------- 33.2/124.9 MB 6.2 MB/s eta 0:00:15\n",
      "   ---------- ----------------------------- 33.6/124.9 MB 6.2 MB/s eta 0:00:15\n",
      "   ---------- ----------------------------- 33.8/124.9 MB 6.1 MB/s eta 0:00:15\n",
      "   ---------- ----------------------------- 34.0/124.9 MB 6.1 MB/s eta 0:00:16\n",
      "   ---------- ----------------------------- 34.2/124.9 MB 6.1 MB/s eta 0:00:15\n",
      "   ----------- ---------------------------- 34.4/124.9 MB 6.0 MB/s eta 0:00:16\n",
      "   ----------- ---------------------------- 34.7/124.9 MB 6.1 MB/s eta 0:00:15\n",
      "   ----------- ---------------------------- 34.9/124.9 MB 6.1 MB/s eta 0:00:15\n",
      "   ----------- ---------------------------- 35.2/124.9 MB 6.2 MB/s eta 0:00:15\n",
      "   ----------- ---------------------------- 35.5/124.9 MB 6.1 MB/s eta 0:00:15\n",
      "   ----------- ---------------------------- 35.8/124.9 MB 6.2 MB/s eta 0:00:15\n",
      "   ----------- ---------------------------- 36.0/124.9 MB 6.2 MB/s eta 0:00:15\n",
      "   ----------- ---------------------------- 36.4/124.9 MB 6.2 MB/s eta 0:00:15\n",
      "   ----------- ---------------------------- 36.7/124.9 MB 6.2 MB/s eta 0:00:15\n",
      "   ----------- ---------------------------- 37.1/124.9 MB 6.2 MB/s eta 0:00:15\n",
      "   ----------- ---------------------------- 37.5/124.9 MB 6.2 MB/s eta 0:00:15\n",
      "   ------------ --------------------------- 37.8/124.9 MB 6.1 MB/s eta 0:00:15\n",
      "   ------------ --------------------------- 38.1/124.9 MB 6.1 MB/s eta 0:00:15\n",
      "   ------------ --------------------------- 38.3/124.9 MB 6.1 MB/s eta 0:00:15\n",
      "   ------------ --------------------------- 38.5/124.9 MB 6.0 MB/s eta 0:00:15\n",
      "   ------------ --------------------------- 38.7/124.9 MB 6.0 MB/s eta 0:00:15\n",
      "   ------------ --------------------------- 38.9/124.9 MB 6.0 MB/s eta 0:00:15\n",
      "   ------------ --------------------------- 39.1/124.9 MB 6.0 MB/s eta 0:00:15\n",
      "   ------------ --------------------------- 39.3/124.9 MB 6.0 MB/s eta 0:00:15\n",
      "   ------------ --------------------------- 39.6/124.9 MB 6.0 MB/s eta 0:00:15\n",
      "   ------------ --------------------------- 39.8/124.9 MB 6.0 MB/s eta 0:00:15\n",
      "   ------------ --------------------------- 40.1/124.9 MB 6.0 MB/s eta 0:00:15\n",
      "   ------------ --------------------------- 40.4/124.9 MB 6.0 MB/s eta 0:00:15\n",
      "   ------------- -------------------------- 40.8/124.9 MB 6.1 MB/s eta 0:00:14\n",
      "   ------------- -------------------------- 41.1/124.9 MB 6.0 MB/s eta 0:00:14\n",
      "   ------------- -------------------------- 41.5/124.9 MB 6.1 MB/s eta 0:00:14\n",
      "   ------------- -------------------------- 41.9/124.9 MB 6.1 MB/s eta 0:00:14\n",
      "   ------------- -------------------------- 42.3/124.9 MB 6.1 MB/s eta 0:00:14\n",
      "   ------------- -------------------------- 42.7/124.9 MB 6.1 MB/s eta 0:00:14\n",
      "   ------------- -------------------------- 43.1/124.9 MB 6.1 MB/s eta 0:00:14\n",
      "   ------------- -------------------------- 43.4/124.9 MB 6.1 MB/s eta 0:00:14\n",
      "   -------------- ------------------------- 43.8/124.9 MB 6.1 MB/s eta 0:00:14\n",
      "   -------------- ------------------------- 44.1/124.9 MB 6.0 MB/s eta 0:00:14\n",
      "   -------------- ------------------------- 44.3/124.9 MB 6.1 MB/s eta 0:00:14\n",
      "   -------------- ------------------------- 44.5/124.9 MB 6.1 MB/s eta 0:00:14\n",
      "   -------------- ------------------------- 44.7/124.9 MB 6.1 MB/s eta 0:00:14\n",
      "   -------------- ------------------------- 45.0/124.9 MB 6.1 MB/s eta 0:00:14\n",
      "   -------------- ------------------------- 45.2/124.9 MB 6.1 MB/s eta 0:00:14\n",
      "   -------------- ------------------------- 45.5/124.9 MB 6.1 MB/s eta 0:00:13\n",
      "   -------------- ------------------------- 45.8/124.9 MB 6.1 MB/s eta 0:00:13\n",
      "   -------------- ------------------------- 46.1/124.9 MB 6.1 MB/s eta 0:00:13\n",
      "   -------------- ------------------------- 46.4/124.9 MB 6.1 MB/s eta 0:00:13\n",
      "   -------------- ------------------------- 46.7/124.9 MB 6.1 MB/s eta 0:00:13\n",
      "   --------------- ------------------------ 47.0/124.9 MB 6.1 MB/s eta 0:00:13\n",
      "   --------------- ------------------------ 47.3/124.9 MB 6.1 MB/s eta 0:00:13\n",
      "   --------------- ------------------------ 47.7/124.9 MB 6.1 MB/s eta 0:00:13\n",
      "   --------------- ------------------------ 48.1/124.9 MB 6.1 MB/s eta 0:00:13\n",
      "   --------------- ------------------------ 48.5/124.9 MB 6.1 MB/s eta 0:00:13\n",
      "   --------------- ------------------------ 48.8/124.9 MB 6.2 MB/s eta 0:00:13\n",
      "   --------------- ------------------------ 49.0/124.9 MB 6.2 MB/s eta 0:00:13\n",
      "   --------------- ------------------------ 49.3/124.9 MB 6.4 MB/s eta 0:00:12\n",
      "   --------------- ------------------------ 49.6/124.9 MB 6.4 MB/s eta 0:00:12\n",
      "   --------------- ------------------------ 49.8/124.9 MB 6.4 MB/s eta 0:00:12\n",
      "   --------------- ------------------------ 50.0/124.9 MB 6.2 MB/s eta 0:00:13\n",
      "   ---------------- ----------------------- 50.2/124.9 MB 6.2 MB/s eta 0:00:12\n",
      "   ---------------- ----------------------- 50.4/124.9 MB 6.2 MB/s eta 0:00:13\n",
      "   ---------------- ----------------------- 50.7/124.9 MB 6.2 MB/s eta 0:00:12\n",
      "   ---------------- ----------------------- 50.9/124.9 MB 6.1 MB/s eta 0:00:13\n",
      "   ---------------- ----------------------- 51.2/124.9 MB 6.2 MB/s eta 0:00:12\n",
      "   ---------------- ----------------------- 51.5/124.9 MB 6.1 MB/s eta 0:00:12\n",
      "   ---------------- ----------------------- 51.8/124.9 MB 6.1 MB/s eta 0:00:12\n",
      "   ---------------- ----------------------- 52.1/124.9 MB 6.1 MB/s eta 0:00:13\n",
      "   ---------------- ----------------------- 52.5/124.9 MB 6.1 MB/s eta 0:00:12\n",
      "   ---------------- ----------------------- 52.8/124.9 MB 6.1 MB/s eta 0:00:12\n",
      "   ----------------- ---------------------- 53.2/124.9 MB 6.1 MB/s eta 0:00:12\n",
      "   ----------------- ---------------------- 53.6/124.9 MB 6.1 MB/s eta 0:00:12\n",
      "   ----------------- ---------------------- 54.0/124.9 MB 6.2 MB/s eta 0:00:12\n",
      "   ----------------- ---------------------- 54.4/124.9 MB 6.3 MB/s eta 0:00:12\n",
      "   ----------------- ---------------------- 54.8/124.9 MB 6.4 MB/s eta 0:00:11\n",
      "   ----------------- ---------------------- 55.1/124.9 MB 6.4 MB/s eta 0:00:11\n",
      "   ----------------- ---------------------- 55.3/124.9 MB 6.4 MB/s eta 0:00:11\n",
      "   ----------------- ---------------------- 55.5/124.9 MB 6.4 MB/s eta 0:00:11\n",
      "   ----------------- ---------------------- 55.6/124.9 MB 6.4 MB/s eta 0:00:11\n",
      "   ----------------- ---------------------- 55.8/124.9 MB 6.2 MB/s eta 0:00:12\n",
      "   ----------------- ---------------------- 55.9/124.9 MB 6.1 MB/s eta 0:00:12\n",
      "   ----------------- ---------------------- 56.0/124.9 MB 6.0 MB/s eta 0:00:12\n",
      "   ----------------- ---------------------- 56.1/124.9 MB 5.8 MB/s eta 0:00:12\n",
      "   ------------------ --------------------- 56.3/124.9 MB 5.8 MB/s eta 0:00:12\n",
      "   ------------------ --------------------- 56.4/124.9 MB 5.7 MB/s eta 0:00:12\n",
      "   ------------------ --------------------- 56.5/124.9 MB 5.6 MB/s eta 0:00:13\n",
      "   ------------------ --------------------- 56.7/124.9 MB 5.6 MB/s eta 0:00:13\n",
      "   ------------------ --------------------- 56.9/124.9 MB 5.6 MB/s eta 0:00:13\n",
      "   ------------------ --------------------- 57.1/124.9 MB 5.5 MB/s eta 0:00:13\n",
      "   ------------------ --------------------- 57.3/124.9 MB 5.5 MB/s eta 0:00:13\n",
      "   ------------------ --------------------- 57.5/124.9 MB 5.5 MB/s eta 0:00:13\n",
      "   ------------------ --------------------- 57.8/124.9 MB 5.4 MB/s eta 0:00:13\n",
      "   ------------------ --------------------- 58.1/124.9 MB 5.5 MB/s eta 0:00:13\n",
      "   ------------------ --------------------- 58.4/124.9 MB 5.4 MB/s eta 0:00:13\n",
      "   ------------------ --------------------- 58.7/124.9 MB 5.4 MB/s eta 0:00:13\n",
      "   ------------------ --------------------- 59.0/124.9 MB 5.4 MB/s eta 0:00:13\n",
      "   ------------------- -------------------- 59.4/124.9 MB 5.5 MB/s eta 0:00:13\n",
      "   ------------------- -------------------- 59.7/124.9 MB 5.5 MB/s eta 0:00:12\n",
      "   ------------------- -------------------- 60.1/124.9 MB 5.6 MB/s eta 0:00:12\n",
      "   ------------------- -------------------- 60.5/124.9 MB 5.7 MB/s eta 0:00:12\n",
      "   ------------------- -------------------- 60.8/124.9 MB 5.7 MB/s eta 0:00:12\n",
      "   ------------------- -------------------- 61.2/124.9 MB 5.8 MB/s eta 0:00:11\n",
      "   ------------------- -------------------- 61.6/124.9 MB 5.8 MB/s eta 0:00:11\n",
      "   ------------------- -------------------- 62.0/124.9 MB 5.8 MB/s eta 0:00:11\n",
      "   ------------------- -------------------- 62.3/124.9 MB 5.8 MB/s eta 0:00:11\n",
      "   -------------------- ------------------- 62.7/124.9 MB 6.0 MB/s eta 0:00:11\n",
      "   -------------------- ------------------- 63.2/124.9 MB 6.0 MB/s eta 0:00:11\n",
      "   -------------------- ------------------- 63.5/124.9 MB 6.0 MB/s eta 0:00:11\n",
      "   -------------------- ------------------- 63.7/124.9 MB 5.9 MB/s eta 0:00:11\n",
      "   -------------------- ------------------- 63.9/124.9 MB 5.8 MB/s eta 0:00:11\n",
      "   -------------------- ------------------- 64.0/124.9 MB 5.7 MB/s eta 0:00:11\n",
      "   -------------------- ------------------- 64.1/124.9 MB 5.6 MB/s eta 0:00:11\n",
      "   -------------------- ------------------- 64.2/124.9 MB 5.5 MB/s eta 0:00:11\n",
      "   -------------------- ------------------- 64.4/124.9 MB 5.4 MB/s eta 0:00:12\n",
      "   -------------------- ------------------- 64.5/124.9 MB 5.3 MB/s eta 0:00:12\n",
      "   -------------------- ------------------- 64.6/124.9 MB 5.2 MB/s eta 0:00:12\n",
      "   -------------------- ------------------- 64.7/124.9 MB 5.2 MB/s eta 0:00:12\n",
      "   -------------------- ------------------- 64.9/124.9 MB 5.1 MB/s eta 0:00:12\n",
      "   -------------------- ------------------- 65.1/124.9 MB 5.0 MB/s eta 0:00:12\n",
      "   -------------------- ------------------- 65.2/124.9 MB 5.0 MB/s eta 0:00:13\n",
      "   -------------------- ------------------- 65.4/124.9 MB 5.0 MB/s eta 0:00:12\n",
      "   --------------------- ------------------ 65.6/124.9 MB 4.9 MB/s eta 0:00:13\n",
      "   --------------------- ------------------ 65.9/124.9 MB 4.9 MB/s eta 0:00:12\n",
      "   --------------------- ------------------ 66.1/124.9 MB 5.1 MB/s eta 0:00:12\n",
      "   --------------------- ------------------ 66.3/124.9 MB 5.2 MB/s eta 0:00:12\n",
      "   --------------------- ------------------ 66.6/124.9 MB 5.3 MB/s eta 0:00:12\n",
      "   --------------------- ------------------ 66.9/124.9 MB 5.4 MB/s eta 0:00:11\n",
      "   --------------------- ------------------ 67.1/124.9 MB 5.4 MB/s eta 0:00:11\n",
      "   --------------------- ------------------ 67.4/124.9 MB 5.5 MB/s eta 0:00:11\n",
      "   --------------------- ------------------ 67.7/124.9 MB 5.5 MB/s eta 0:00:11\n",
      "   --------------------- ------------------ 68.0/124.9 MB 5.5 MB/s eta 0:00:11\n",
      "   --------------------- ------------------ 68.3/124.9 MB 5.5 MB/s eta 0:00:11\n",
      "   --------------------- ------------------ 68.7/124.9 MB 5.5 MB/s eta 0:00:11\n",
      "   ---------------------- ----------------- 69.1/124.9 MB 5.6 MB/s eta 0:00:10\n",
      "   ---------------------- ----------------- 69.4/124.9 MB 5.6 MB/s eta 0:00:10\n",
      "   ---------------------- ----------------- 69.8/124.9 MB 5.6 MB/s eta 0:00:10\n",
      "   ---------------------- ----------------- 70.1/124.9 MB 5.5 MB/s eta 0:00:10\n",
      "   ---------------------- ----------------- 70.5/124.9 MB 5.6 MB/s eta 0:00:10\n",
      "   ---------------------- ----------------- 70.9/124.9 MB 5.6 MB/s eta 0:00:10\n",
      "   ---------------------- ----------------- 71.3/124.9 MB 5.6 MB/s eta 0:00:10\n",
      "   ---------------------- ----------------- 71.7/124.9 MB 5.6 MB/s eta 0:00:10\n",
      "   ----------------------- ---------------- 72.1/124.9 MB 5.6 MB/s eta 0:00:10\n",
      "   ----------------------- ---------------- 72.4/124.9 MB 5.6 MB/s eta 0:00:10\n",
      "   ----------------------- ---------------- 72.7/124.9 MB 5.6 MB/s eta 0:00:10\n",
      "   ----------------------- ---------------- 73.0/124.9 MB 5.5 MB/s eta 0:00:10\n",
      "   ----------------------- ---------------- 73.2/124.9 MB 5.5 MB/s eta 0:00:10\n",
      "   ----------------------- ---------------- 73.3/124.9 MB 5.3 MB/s eta 0:00:10\n",
      "   ----------------------- ---------------- 73.4/124.9 MB 5.2 MB/s eta 0:00:10\n",
      "   ----------------------- ---------------- 73.5/124.9 MB 5.2 MB/s eta 0:00:10\n",
      "   ----------------------- ---------------- 73.6/124.9 MB 5.1 MB/s eta 0:00:11\n",
      "   ----------------------- ---------------- 73.8/124.9 MB 5.0 MB/s eta 0:00:11\n",
      "   ----------------------- ---------------- 73.9/124.9 MB 5.0 MB/s eta 0:00:11\n",
      "   ----------------------- ---------------- 74.1/124.9 MB 5.1 MB/s eta 0:00:11\n",
      "   ----------------------- ---------------- 74.3/124.9 MB 5.1 MB/s eta 0:00:10\n",
      "   ----------------------- ---------------- 74.5/124.9 MB 5.2 MB/s eta 0:00:10\n",
      "   ----------------------- ---------------- 74.8/124.9 MB 5.3 MB/s eta 0:00:10\n",
      "   ------------------------ --------------- 75.0/124.9 MB 5.5 MB/s eta 0:00:10\n",
      "   ------------------------ --------------- 75.3/124.9 MB 5.5 MB/s eta 0:00:10\n",
      "   ------------------------ --------------- 75.6/124.9 MB 5.6 MB/s eta 0:00:09\n",
      "   ------------------------ --------------- 75.8/124.9 MB 5.6 MB/s eta 0:00:09\n",
      "   ------------------------ --------------- 76.2/124.9 MB 5.7 MB/s eta 0:00:09\n",
      "   ------------------------ --------------- 76.5/124.9 MB 5.7 MB/s eta 0:00:09\n",
      "   ------------------------ --------------- 76.8/124.9 MB 5.7 MB/s eta 0:00:09\n",
      "   ------------------------ --------------- 77.1/124.9 MB 5.8 MB/s eta 0:00:09\n",
      "   ------------------------ --------------- 77.5/124.9 MB 5.9 MB/s eta 0:00:09\n",
      "   ------------------------ --------------- 77.9/124.9 MB 6.0 MB/s eta 0:00:08\n",
      "   ------------------------- -------------- 78.2/124.9 MB 6.0 MB/s eta 0:00:08\n",
      "   ------------------------- -------------- 78.6/124.9 MB 6.0 MB/s eta 0:00:08\n",
      "   ------------------------- -------------- 79.0/124.9 MB 6.1 MB/s eta 0:00:08\n",
      "   ------------------------- -------------- 79.4/124.9 MB 6.1 MB/s eta 0:00:08\n",
      "   ------------------------- -------------- 79.8/124.9 MB 6.1 MB/s eta 0:00:08\n",
      "   ------------------------- -------------- 80.2/124.9 MB 6.1 MB/s eta 0:00:08\n",
      "   ------------------------- -------------- 80.4/124.9 MB 6.1 MB/s eta 0:00:08\n",
      "   ------------------------- -------------- 80.6/124.9 MB 6.0 MB/s eta 0:00:08\n",
      "   ------------------------- -------------- 80.8/124.9 MB 5.9 MB/s eta 0:00:08\n",
      "   ------------------------- -------------- 81.0/124.9 MB 5.8 MB/s eta 0:00:08\n",
      "   -------------------------- ------------- 81.3/124.9 MB 5.7 MB/s eta 0:00:08\n",
      "   -------------------------- ------------- 81.5/124.9 MB 5.7 MB/s eta 0:00:08\n",
      "   -------------------------- ------------- 81.7/124.9 MB 5.6 MB/s eta 0:00:08\n",
      "   -------------------------- ------------- 82.0/124.9 MB 5.6 MB/s eta 0:00:08\n",
      "   -------------------------- ------------- 82.4/124.9 MB 5.6 MB/s eta 0:00:08\n",
      "   -------------------------- ------------- 82.7/124.9 MB 5.6 MB/s eta 0:00:08\n",
      "   -------------------------- ------------- 83.0/124.9 MB 5.6 MB/s eta 0:00:08\n",
      "   -------------------------- ------------- 83.4/124.9 MB 5.6 MB/s eta 0:00:08\n",
      "   -------------------------- ------------- 83.7/124.9 MB 6.0 MB/s eta 0:00:07\n",
      "   -------------------------- ------------- 84.0/124.9 MB 6.2 MB/s eta 0:00:07\n",
      "   --------------------------- ------------ 84.3/124.9 MB 6.3 MB/s eta 0:00:07\n",
      "   --------------------------- ------------ 84.6/124.9 MB 6.4 MB/s eta 0:00:07\n",
      "   --------------------------- ------------ 84.9/124.9 MB 6.4 MB/s eta 0:00:07\n",
      "   --------------------------- ------------ 85.1/124.9 MB 6.4 MB/s eta 0:00:07\n",
      "   --------------------------- ------------ 85.2/124.9 MB 6.3 MB/s eta 0:00:07\n",
      "   --------------------------- ------------ 85.3/124.9 MB 6.1 MB/s eta 0:00:07\n",
      "   --------------------------- ------------ 85.4/124.9 MB 6.1 MB/s eta 0:00:07\n",
      "   --------------------------- ------------ 85.6/124.9 MB 6.1 MB/s eta 0:00:07\n",
      "   --------------------------- ------------ 85.7/124.9 MB 5.9 MB/s eta 0:00:07\n",
      "   --------------------------- ------------ 85.9/124.9 MB 5.9 MB/s eta 0:00:07\n",
      "   --------------------------- ------------ 86.1/124.9 MB 5.8 MB/s eta 0:00:07\n",
      "   --------------------------- ------------ 86.3/124.9 MB 5.8 MB/s eta 0:00:07\n",
      "   --------------------------- ------------ 86.5/124.9 MB 5.7 MB/s eta 0:00:07\n",
      "   --------------------------- ------------ 86.7/124.9 MB 5.6 MB/s eta 0:00:07\n",
      "   --------------------------- ------------ 86.9/124.9 MB 5.6 MB/s eta 0:00:07\n",
      "   --------------------------- ------------ 87.1/124.9 MB 5.6 MB/s eta 0:00:07\n",
      "   --------------------------- ------------ 87.3/124.9 MB 5.5 MB/s eta 0:00:07\n",
      "   ---------------------------- ----------- 87.6/124.9 MB 5.5 MB/s eta 0:00:07\n",
      "   ---------------------------- ----------- 87.9/124.9 MB 5.5 MB/s eta 0:00:07\n",
      "   ---------------------------- ----------- 88.2/124.9 MB 5.5 MB/s eta 0:00:07\n",
      "   ---------------------------- ----------- 88.6/124.9 MB 5.4 MB/s eta 0:00:07\n",
      "   ---------------------------- ----------- 88.8/124.9 MB 5.4 MB/s eta 0:00:07\n",
      "   ---------------------------- ----------- 89.1/124.9 MB 5.4 MB/s eta 0:00:07\n",
      "   ---------------------------- ----------- 89.3/124.9 MB 5.3 MB/s eta 0:00:07\n",
      "   ---------------------------- ----------- 89.6/124.9 MB 5.2 MB/s eta 0:00:07\n",
      "   ---------------------------- ----------- 89.7/124.9 MB 5.2 MB/s eta 0:00:07\n",
      "   ---------------------------- ----------- 90.0/124.9 MB 5.1 MB/s eta 0:00:07\n",
      "   ---------------------------- ----------- 90.2/124.9 MB 5.1 MB/s eta 0:00:07\n",
      "   ----------------------------- ---------- 90.6/124.9 MB 5.1 MB/s eta 0:00:07\n",
      "   ----------------------------- ---------- 91.0/124.9 MB 5.2 MB/s eta 0:00:07\n",
      "   ----------------------------- ---------- 91.4/124.9 MB 5.4 MB/s eta 0:00:07\n",
      "   ----------------------------- ---------- 91.8/124.9 MB 5.5 MB/s eta 0:00:07\n",
      "   ----------------------------- ---------- 92.3/124.9 MB 5.6 MB/s eta 0:00:06\n",
      "   ----------------------------- ---------- 92.6/124.9 MB 5.6 MB/s eta 0:00:06\n",
      "   ----------------------------- ---------- 93.0/124.9 MB 5.6 MB/s eta 0:00:06\n",
      "   ----------------------------- ---------- 93.3/124.9 MB 5.6 MB/s eta 0:00:06\n",
      "   ----------------------------- ---------- 93.6/124.9 MB 5.6 MB/s eta 0:00:06\n",
      "   ------------------------------ --------- 94.0/124.9 MB 5.5 MB/s eta 0:00:06\n",
      "   ------------------------------ --------- 94.2/124.9 MB 5.6 MB/s eta 0:00:06\n",
      "   ------------------------------ --------- 94.4/124.9 MB 5.5 MB/s eta 0:00:06\n",
      "   ------------------------------ --------- 94.7/124.9 MB 5.5 MB/s eta 0:00:06\n",
      "   ------------------------------ --------- 94.9/124.9 MB 5.5 MB/s eta 0:00:06\n",
      "   ------------------------------ --------- 95.2/124.9 MB 5.5 MB/s eta 0:00:06\n",
      "   ------------------------------ --------- 95.5/124.9 MB 5.7 MB/s eta 0:00:06\n",
      "   ------------------------------ --------- 95.8/124.9 MB 5.8 MB/s eta 0:00:05\n",
      "   ------------------------------ --------- 96.1/124.9 MB 6.1 MB/s eta 0:00:05\n",
      "   ------------------------------ --------- 96.4/124.9 MB 6.2 MB/s eta 0:00:05\n",
      "   ------------------------------ --------- 96.7/124.9 MB 6.2 MB/s eta 0:00:05\n",
      "   ------------------------------- -------- 96.9/124.9 MB 6.2 MB/s eta 0:00:05\n",
      "   ------------------------------- -------- 97.2/124.9 MB 6.3 MB/s eta 0:00:05\n",
      "   ------------------------------- -------- 97.4/124.9 MB 6.3 MB/s eta 0:00:05\n",
      "   ------------------------------- -------- 97.6/124.9 MB 6.2 MB/s eta 0:00:05\n",
      "   ------------------------------- -------- 97.8/124.9 MB 6.2 MB/s eta 0:00:05\n",
      "   ------------------------------- -------- 98.0/124.9 MB 6.1 MB/s eta 0:00:05\n",
      "   ------------------------------- -------- 98.2/124.9 MB 6.1 MB/s eta 0:00:05\n",
      "   ------------------------------- -------- 98.5/124.9 MB 6.1 MB/s eta 0:00:05\n",
      "   ------------------------------- -------- 98.6/124.9 MB 6.1 MB/s eta 0:00:05\n",
      "   ------------------------------- -------- 98.8/124.9 MB 6.0 MB/s eta 0:00:05\n",
      "   ------------------------------- -------- 99.0/124.9 MB 6.0 MB/s eta 0:00:05\n",
      "   ------------------------------- -------- 99.2/124.9 MB 5.9 MB/s eta 0:00:05\n",
      "   ------------------------------- -------- 99.4/124.9 MB 5.8 MB/s eta 0:00:05\n",
      "   ------------------------------- -------- 99.6/124.9 MB 5.8 MB/s eta 0:00:05\n",
      "   ------------------------------- -------- 99.9/124.9 MB 5.8 MB/s eta 0:00:05\n",
      "   -------------------------------- ------- 100.2/124.9 MB 5.8 MB/s eta 0:00:05\n",
      "   -------------------------------- ------- 100.5/124.9 MB 5.9 MB/s eta 0:00:05\n",
      "   -------------------------------- ------- 100.9/124.9 MB 6.0 MB/s eta 0:00:05\n",
      "   -------------------------------- ------- 101.2/124.9 MB 5.9 MB/s eta 0:00:05\n",
      "   -------------------------------- ------- 101.6/124.9 MB 5.8 MB/s eta 0:00:04\n",
      "   -------------------------------- ------- 101.9/124.9 MB 5.8 MB/s eta 0:00:04\n",
      "   -------------------------------- ------- 102.3/124.9 MB 5.8 MB/s eta 0:00:04\n",
      "   -------------------------------- ------- 102.8/124.9 MB 5.7 MB/s eta 0:00:04\n",
      "   --------------------------------- ------ 103.2/124.9 MB 5.8 MB/s eta 0:00:04\n",
      "   --------------------------------- ------ 103.6/124.9 MB 5.8 MB/s eta 0:00:04\n",
      "   --------------------------------- ------ 103.8/124.9 MB 5.8 MB/s eta 0:00:04\n",
      "   --------------------------------- ------ 104.2/124.9 MB 5.8 MB/s eta 0:00:04\n",
      "   --------------------------------- ------ 104.5/124.9 MB 5.8 MB/s eta 0:00:04\n",
      "   --------------------------------- ------ 104.8/124.9 MB 5.8 MB/s eta 0:00:04\n",
      "   --------------------------------- ------ 105.1/124.9 MB 6.0 MB/s eta 0:00:04\n",
      "   --------------------------------- ------ 105.3/124.9 MB 5.9 MB/s eta 0:00:04\n",
      "   --------------------------------- ------ 105.7/124.9 MB 6.0 MB/s eta 0:00:04\n",
      "   --------------------------------- ------ 105.9/124.9 MB 5.9 MB/s eta 0:00:04\n",
      "   --------------------------------- ------ 106.2/124.9 MB 5.9 MB/s eta 0:00:04\n",
      "   ---------------------------------- ----- 106.4/124.9 MB 5.8 MB/s eta 0:00:04\n",
      "   ---------------------------------- ----- 106.6/124.9 MB 5.7 MB/s eta 0:00:04\n",
      "   ---------------------------------- ----- 106.8/124.9 MB 5.7 MB/s eta 0:00:04\n",
      "   ---------------------------------- ----- 107.0/124.9 MB 5.6 MB/s eta 0:00:04\n",
      "   ---------------------------------- ----- 107.2/124.9 MB 5.6 MB/s eta 0:00:04\n",
      "   ---------------------------------- ----- 107.5/124.9 MB 5.7 MB/s eta 0:00:04\n",
      "   ---------------------------------- ----- 107.7/124.9 MB 5.7 MB/s eta 0:00:04\n",
      "   ---------------------------------- ----- 108.1/124.9 MB 5.8 MB/s eta 0:00:03\n",
      "   ---------------------------------- ----- 108.4/124.9 MB 5.8 MB/s eta 0:00:03\n",
      "   ---------------------------------- ----- 108.7/124.9 MB 5.9 MB/s eta 0:00:03\n",
      "   ---------------------------------- ----- 109.0/124.9 MB 6.0 MB/s eta 0:00:03\n",
      "   ----------------------------------- ---- 109.3/124.9 MB 6.1 MB/s eta 0:00:03\n",
      "   ----------------------------------- ---- 109.7/124.9 MB 6.2 MB/s eta 0:00:03\n",
      "   ----------------------------------- ---- 110.0/124.9 MB 6.3 MB/s eta 0:00:03\n",
      "   ----------------------------------- ---- 110.4/124.9 MB 6.4 MB/s eta 0:00:03\n",
      "   ----------------------------------- ---- 110.7/124.9 MB 6.4 MB/s eta 0:00:03\n",
      "   ----------------------------------- ---- 111.1/124.9 MB 6.4 MB/s eta 0:00:03\n",
      "   ----------------------------------- ---- 111.4/124.9 MB 6.4 MB/s eta 0:00:03\n",
      "   ----------------------------------- ---- 111.6/124.9 MB 6.4 MB/s eta 0:00:03\n",
      "   ----------------------------------- ---- 111.8/124.9 MB 6.2 MB/s eta 0:00:03\n",
      "   ----------------------------------- ---- 112.0/124.9 MB 6.2 MB/s eta 0:00:03\n",
      "   ----------------------------------- ---- 112.3/124.9 MB 6.1 MB/s eta 0:00:03\n",
      "   ------------------------------------ --- 112.5/124.9 MB 6.1 MB/s eta 0:00:03\n",
      "   ------------------------------------ --- 112.8/124.9 MB 6.0 MB/s eta 0:00:03\n",
      "   ------------------------------------ --- 113.1/124.9 MB 6.0 MB/s eta 0:00:02\n",
      "   ------------------------------------ --- 113.4/124.9 MB 5.9 MB/s eta 0:00:02\n",
      "   ------------------------------------ --- 113.7/124.9 MB 5.9 MB/s eta 0:00:02\n",
      "   ------------------------------------ --- 114.0/124.9 MB 5.9 MB/s eta 0:00:02\n",
      "   ------------------------------------ --- 114.4/124.9 MB 5.9 MB/s eta 0:00:02\n",
      "   ------------------------------------ --- 114.7/124.9 MB 5.9 MB/s eta 0:00:02\n",
      "   ------------------------------------ --- 115.1/124.9 MB 6.0 MB/s eta 0:00:02\n",
      "   ------------------------------------ --- 115.3/124.9 MB 5.8 MB/s eta 0:00:02\n",
      "   ------------------------------------- -- 115.8/124.9 MB 6.0 MB/s eta 0:00:02\n",
      "   ------------------------------------- -- 116.2/124.9 MB 6.1 MB/s eta 0:00:02\n",
      "   ------------------------------------- -- 116.6/124.9 MB 6.2 MB/s eta 0:00:02\n",
      "   ------------------------------------- -- 116.9/124.9 MB 6.3 MB/s eta 0:00:02\n",
      "   ------------------------------------- -- 117.3/124.9 MB 6.5 MB/s eta 0:00:02\n",
      "   ------------------------------------- -- 117.6/124.9 MB 6.6 MB/s eta 0:00:02\n",
      "   ------------------------------------- -- 117.9/124.9 MB 6.6 MB/s eta 0:00:02\n",
      "   ------------------------------------- -- 118.3/124.9 MB 6.6 MB/s eta 0:00:02\n",
      "   ------------------------------------- -- 118.6/124.9 MB 6.7 MB/s eta 0:00:01\n",
      "   -------------------------------------- - 118.9/124.9 MB 6.7 MB/s eta 0:00:01\n",
      "   -------------------------------------- - 119.1/124.9 MB 6.6 MB/s eta 0:00:01\n",
      "   -------------------------------------- - 119.2/124.9 MB 6.5 MB/s eta 0:00:01\n",
      "   -------------------------------------- - 119.3/124.9 MB 6.4 MB/s eta 0:00:01\n",
      "   -------------------------------------- - 119.4/124.9 MB 6.2 MB/s eta 0:00:01\n",
      "   -------------------------------------- - 119.4/124.9 MB 6.0 MB/s eta 0:00:01\n",
      "   -------------------------------------- - 119.5/124.9 MB 6.0 MB/s eta 0:00:01\n",
      "   -------------------------------------- - 119.6/124.9 MB 5.8 MB/s eta 0:00:01\n",
      "   -------------------------------------- - 119.7/124.9 MB 5.7 MB/s eta 0:00:01\n",
      "   -------------------------------------- - 119.9/124.9 MB 5.6 MB/s eta 0:00:01\n",
      "   -------------------------------------- - 120.0/124.9 MB 5.6 MB/s eta 0:00:01\n",
      "   -------------------------------------- - 120.1/124.9 MB 5.5 MB/s eta 0:00:01\n",
      "   -------------------------------------- - 120.3/124.9 MB 5.4 MB/s eta 0:00:01\n",
      "   -------------------------------------- - 120.4/124.9 MB 5.3 MB/s eta 0:00:01\n",
      "   -------------------------------------- - 120.6/124.9 MB 5.2 MB/s eta 0:00:01\n",
      "   -------------------------------------- - 120.8/124.9 MB 5.2 MB/s eta 0:00:01\n",
      "   -------------------------------------- - 121.0/124.9 MB 5.1 MB/s eta 0:00:01\n",
      "   -------------------------------------- - 121.2/124.9 MB 5.1 MB/s eta 0:00:01\n",
      "   -------------------------------------- - 121.4/124.9 MB 5.0 MB/s eta 0:00:01\n",
      "   -------------------------------------- - 121.7/124.9 MB 5.0 MB/s eta 0:00:01\n",
      "   ---------------------------------------  121.9/124.9 MB 5.1 MB/s eta 0:00:01\n",
      "   ---------------------------------------  122.2/124.9 MB 5.1 MB/s eta 0:00:01\n",
      "   ---------------------------------------  122.4/124.9 MB 5.1 MB/s eta 0:00:01\n",
      "   ---------------------------------------  122.8/124.9 MB 5.2 MB/s eta 0:00:01\n",
      "   ---------------------------------------  123.0/124.9 MB 5.2 MB/s eta 0:00:01\n",
      "   ---------------------------------------  123.4/124.9 MB 5.2 MB/s eta 0:00:01\n",
      "   ---------------------------------------  123.7/124.9 MB 5.2 MB/s eta 0:00:01\n",
      "   ---------------------------------------  124.0/124.9 MB 5.1 MB/s eta 0:00:01\n",
      "   ---------------------------------------  124.4/124.9 MB 5.1 MB/s eta 0:00:01\n",
      "   ---------------------------------------  124.7/124.9 MB 5.2 MB/s eta 0:00:01\n",
      "   ---------------------------------------  124.9/124.9 MB 5.1 MB/s eta 0:00:01\n",
      "   ---------------------------------------  124.9/124.9 MB 5.1 MB/s eta 0:00:01\n",
      "   ---------------------------------------  124.9/124.9 MB 5.1 MB/s eta 0:00:01\n",
      "   ---------------------------------------  124.9/124.9 MB 5.1 MB/s eta 0:00:01\n",
      "   ---------------------------------------  124.9/124.9 MB 5.1 MB/s eta 0:00:01\n",
      "   ---------------------------------------  124.9/124.9 MB 5.1 MB/s eta 0:00:01\n",
      "   ---------------------------------------  124.9/124.9 MB 5.1 MB/s eta 0:00:01\n",
      "   ---------------------------------------  124.9/124.9 MB 5.1 MB/s eta 0:00:01\n",
      "   ---------------------------------------  124.9/124.9 MB 5.1 MB/s eta 0:00:01\n",
      "   ---------------------------------------  124.9/124.9 MB 5.1 MB/s eta 0:00:01\n",
      "   ---------------------------------------  124.9/124.9 MB 5.1 MB/s eta 0:00:01\n",
      "   ---------------------------------------  124.9/124.9 MB 5.1 MB/s eta 0:00:01\n",
      "   ---------------------------------------  124.9/124.9 MB 5.1 MB/s eta 0:00:01\n",
      "   ---------------------------------------  124.9/124.9 MB 5.1 MB/s eta 0:00:01\n",
      "   ---------------------------------------  124.9/124.9 MB 5.1 MB/s eta 0:00:01\n",
      "   ---------------------------------------  124.9/124.9 MB 5.1 MB/s eta 0:00:01\n",
      "   ---------------------------------------- 124.9/124.9 MB 3.7 MB/s eta 0:00:00\n",
      "Installing collected packages: xgboost\n",
      "Successfully installed xgboost-2.1.3\n"
     ]
    }
   ],
   "source": [
    "\n",
    "import time\n",
    "from sklearn.linear_model import LogisticRegression, SGDClassifier\n",
    "from sklearn.svm import SVC\n",
    "from sklearn.tree import DecisionTreeClassifier\n",
    "from sklearn.neighbors import KNeighborsClassifier\n",
    "from sklearn.naive_bayes import GaussianNB\n",
    "from sklearn.ensemble import RandomForestClassifier\n",
    "\n",
    "!pip install xgboost\n",
    "\n",
    "from xgboost import XGBClassifier\n",
    "\n"
   ]
  },
  {
   "cell_type": "code",
   "execution_count": 164,
   "metadata": {},
   "outputs": [
    {
     "name": "stdout",
     "output_type": "stream",
     "text": [
      "Logistic Regression runtime: 0.0418 seconds\n",
      "SVM runtime: 2.0424 seconds\n",
      "SGD runtime: 0.1159 seconds\n",
      "Decision Tree runtime: 0.0558 seconds\n",
      "KNN runtime: 0.0011 seconds\n",
      "Naive Bayes runtime: 0.0045 seconds\n",
      "Random Forest runtime: 2.0525 seconds\n",
      "XGBoost runtime: 1.1805 seconds\n"
     ]
    }
   ],
   "source": [
    "def time_model_run(model, X_train, y_train):\n",
    "    start_time = time.time()\n",
    "    model.fit(X_train, y_train)\n",
    "    end_time = time.time()\n",
    "    return end_time - start_time\n",
    "\n",
    "# Logistic Regression\n",
    "log_reg_model = LogisticRegression(random_state=55003)\n",
    "log_reg_time = time_model_run(log_reg_model, pv32_X_train, pv32_y_train)\n",
    "print(f\"Logistic Regression runtime: {log_reg_time:.4f} seconds\")\n",
    "\n",
    "# Support Vector Machine (SVM)\n",
    "svm_model = SVC(random_state=55003)\n",
    "svm_time = time_model_run(svm_model, pv32_X_train, pv32_y_train)\n",
    "print(f\"SVM runtime: {svm_time:.4f} seconds\")\n",
    "\n",
    "# Stochastic Gradient Descent (SGD)\n",
    "sgd_model = SGDClassifier(random_state=55003)\n",
    "sgd_time = time_model_run(sgd_model, pv32_X_train, pv32_y_train)\n",
    "print(f\"SGD runtime: {sgd_time:.4f} seconds\")\n",
    "\n",
    "# Decision Tree\n",
    "dt_model = DecisionTreeClassifier(random_state=55003)\n",
    "dt_time = time_model_run(dt_model, pv32_X_train, pv32_y_train)\n",
    "print(f\"Decision Tree runtime: {dt_time:.4f} seconds\")\n",
    "\n",
    "# K-Nearest Neighbors (KNN)\n",
    "knn_model = KNeighborsClassifier(n_neighbors=5)\n",
    "knn_time = time_model_run(knn_model, pv32_X_train, pv32_y_train)\n",
    "print(f\"KNN runtime: {knn_time:.4f} seconds\")\n",
    "\n",
    "# Naive Bayes\n",
    "nb_model = GaussianNB()\n",
    "nb_time = time_model_run(nb_model, pv32_X_train, pv32_y_train)\n",
    "print(f\"Naive Bayes runtime: {nb_time:.4f} seconds\")\n",
    "\n",
    "# Random Forest\n",
    "rf_model = RandomForestClassifier(random_state=55003)\n",
    "rf_time = time_model_run(rf_model, pv32_X_train, pv32_y_train)\n",
    "print(f\"Random Forest runtime: {rf_time:.4f} seconds\")\n",
    "\n",
    "# Extreme Gradient Boosting (XGBoost)\n",
    "xgb_model = XGBClassifier(random_state=55003)\n",
    "xgb_time = time_model_run(xgb_model, pv32_X_train, pv32_y_train)\n",
    "print(f\"XGBoost runtime: {xgb_time:.4f} seconds\")\n"
   ]
  },
  {
   "cell_type": "markdown",
   "metadata": {
    "id": "aT34J77cLiIv"
   },
   "source": [
    "### **Model Runtime Comparison**\r",
    "          |\r\n",
    "\r\n",
    "#### **Observations:**\r\n",
    "- **Fastest Model:** KNN with a runtime of **0.0011 seconds**, followed by Naive Bayes (**0.0045 seconds**).\r\n",
    "- **Slowest Model:** Random Forest (**2.0525 seconds**) and SVM (**2.0424 seconds**) have the highest runtimes.\r\n",
    "- **Balanced Runtime:** Logistic Regression, SGD, Decision Tree, and XGBoost demonstrate moderate runtimes, making them practical choices for time-sensitive tasks.\r\n",
    "\n",
    "**Insights:**\n",
    "\n",
    "-   KNN and Naive Bayes are the fastest, ideal for quick analysis or when computational resources are limited.\n",
    "-   Logistic Regression, SGD, and Decision Tree offer a good balance of speed and complexity, making them suitable for many applications.\n",
    "-   XGBoost has a moderate runtime, offering a balance between speed and accuracy.\n",
    "-   SVM and Random Forest have slower runtimes, requiring more resources. They might be more suitable for tasks where accuracy is paramount and computational resources are not a major constraint."
   ]
  },
  {
   "cell_type": "markdown",
   "metadata": {
    "id": "jVTkZLILLpyf"
   },
   "source": [
    "\n",
    "## Memory Utilized"
   ]
  },
  {
   "cell_type": "code",
   "execution_count": 167,
   "metadata": {
    "colab": {
     "base_uri": "https://localhost:8080/"
    },
    "id": "Zylx0ZM8Lrf9",
    "outputId": "97ca0896-db46-4419-ab70-4d4f2d8cada6"
   },
   "outputs": [
    {
     "name": "stdout",
     "output_type": "stream",
     "text": [
      "Logistic Regression memory usage: 0.34 MB\n",
      "SVM memory usage: 0.38 MB\n",
      "SGD memory usage: 0.31 MB\n",
      "Decision Tree memory usage: 0.27 MB\n",
      "KNN memory usage: 0.38 MB\n",
      "Naive Bayes memory usage: 0.11 MB\n",
      "Random Forest memory usage: 0.54 MB\n",
      "XGBoost memory usage: 1.02 MB\n"
     ]
    }
   ],
   "source": [
    "import tracemalloc\n",
    "from sklearn.linear_model import LogisticRegression, SGDClassifier\n",
    "from sklearn.svm import SVC\n",
    "from sklearn.tree import DecisionTreeClassifier\n",
    "from sklearn.neighbors import KNeighborsClassifier\n",
    "from sklearn.naive_bayes import GaussianNB\n",
    "from sklearn.ensemble import RandomForestClassifier\n",
    "from xgboost import XGBClassifier\n",
    "\n",
    "def get_model_memory_usage(model, X, y):\n",
    "    tracemalloc.start()\n",
    "    model.fit(X, y)\n",
    "    current, peak = tracemalloc.get_traced_memory()\n",
    "    tracemalloc.stop()\n",
    "    return peak / (1024 * 1024)  # Convert bytes to MB\n",
    "\n",
    "# Logistic Regression\n",
    "log_reg_model = LogisticRegression(random_state=55003)\n",
    "log_reg_memory = get_model_memory_usage(log_reg_model, pv32_X_train, pv32_y_train)\n",
    "print(f\"Logistic Regression memory usage: {log_reg_memory:.2f} MB\")\n",
    "\n",
    "# Support Vector Machine (SVM)\n",
    "svm_model = SVC(random_state=55003)\n",
    "svm_memory = get_model_memory_usage(svm_model, pv32_X_train, pv32_y_train)\n",
    "print(f\"SVM memory usage: {svm_memory:.2f} MB\")\n",
    "\n",
    "# Stochastic Gradient Descent (SGD)\n",
    "sgd_model = SGDClassifier(random_state=55003)\n",
    "sgd_memory = get_model_memory_usage(sgd_model, pv32_X_train, pv32_y_train)\n",
    "print(f\"SGD memory usage: {sgd_memory:.2f} MB\")\n",
    "\n",
    "# Decision Tree\n",
    "dt_model = DecisionTreeClassifier(random_state=55003)\n",
    "dt_memory = get_model_memory_usage(dt_model, pv32_X_train, pv32_y_train)\n",
    "print(f\"Decision Tree memory usage: {dt_memory:.2f} MB\")\n",
    "\n",
    "# K-Nearest Neighbors (KNN)\n",
    "knn_model = KNeighborsClassifier(n_neighbors=5)\n",
    "knn_memory = get_model_memory_usage(knn_model, pv32_X_train, pv32_y_train)\n",
    "print(f\"KNN memory usage: {knn_memory:.2f} MB\")\n",
    "\n",
    "# Naive Bayes\n",
    "nb_model = GaussianNB()\n",
    "nb_memory = get_model_memory_usage(nb_model, pv32_X_train, pv32_y_train)\n",
    "print(f\"Naive Bayes memory usage: {nb_memory:.2f} MB\")\n",
    "\n",
    "# Random Forest\n",
    "rf_model = RandomForestClassifier(random_state=55003)\n",
    "rf_memory = get_model_memory_usage(rf_model, pv32_X_train, pv32_y_train)\n",
    "print(f\"Random Forest memory usage: {rf_memory:.2f} MB\")\n",
    "\n",
    "# Extreme Gradient Boosting (XGBoost)\n",
    "xgb_model = XGBClassifier(random_state=55003)\n",
    "xgb_memory = get_model_memory_usage(xgb_model, pv32_X_train, pv32_y_train)\n",
    "print(f\"XGBoost memory usage: {xgb_memory:.2f} MB\")\n"
   ]
  },
  {
   "cell_type": "markdown",
   "metadata": {
    "id": "8xhTR3hoMRGb"
   },
   "source": [
    "### **Model Memory Usage Comparison**\r",
    "         |\r\n",
    "\r\n",
    "#### **Observations:**\r\n",
    "- **Lowest Memory Usage:** Naive Bayes (**0.11 MB**) is the most memory-efficient model.\r\n",
    "- **Highest Memory Usage:** XGBoost (**1.02 MB**) consumes the most memory, followed by Random Forest (**0.54 MB**).\r\n",
    "- **Moderate Usage:** Logistic Regression, SVM, and KNN use **~0.34–0.38 MB**, balancing performance and memory consumption.\r\n",
    "- **Compact Model:** Decision Tree (**0.27 MB**) offers a good trade-off between memory efficiency and performance.\r\n",
    "\n",
    "**Insights:**\n",
    "\n",
    "-   XGBoost has the highest memory usage, requiring careful resource management.\n",
    "-   Random Forest also has relatively high memory usage compared to other models.\n",
    "-   Logistic Regression, SVM, Decision Tree, and KNN have moderate memory requirements, suitable for most use cases.\n",
    "-   SGD has low memory usage, suitable for resource-constrained environments.\n",
    "-   Naive Bayes has the lowest memory footprint, ideal for memory-sensitive tasks."
   ]
  },
  {
   "cell_type": "code",
   "execution_count": null,
   "metadata": {},
   "outputs": [],
   "source": []
  }
 ],
 "metadata": {
  "colab": {
   "provenance": []
  },
  "kernelspec": {
   "display_name": "Python 3 (ipykernel)",
   "language": "python",
   "name": "python3"
  },
  "language_info": {
   "codemirror_mode": {
    "name": "ipython",
    "version": 3
   },
   "file_extension": ".py",
   "mimetype": "text/x-python",
   "name": "python",
   "nbconvert_exporter": "python",
   "pygments_lexer": "ipython3",
   "version": "3.12.4"
  }
 },
 "nbformat": 4,
 "nbformat_minor": 4
}
